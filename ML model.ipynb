{
 "cells": [
  {
   "cell_type": "code",
   "execution_count": 0,
   "metadata": {
    "application/vnd.databricks.v1+cell": {
     "cellMetadata": {
      "byteLimit": 2048000,
      "rowLimit": 10000
     },
     "inputWidgets": {},
     "nuid": "324b039d-748e-4bfa-95a1-8de42db6695e",
     "showTitle": false,
     "tableResultSettingsMap": {},
     "title": ""
    }
   },
   "outputs": [],
   "source": [
    "import pandas as pd\n",
    "import numpy as np\n",
    "from datetime import datetime\n",
    "from sklearn.model_selection import train_test_split\n",
    "from sklearn.preprocessing import OneHotEncoder\n",
    "from sklearn.metrics import mean_absolute_error, mean_squared_error, r2_score\n",
    "from sklearn.ensemble import RandomForestRegressor"
   ]
  },
  {
   "cell_type": "code",
   "execution_count": 0,
   "metadata": {
    "application/vnd.databricks.v1+cell": {
     "cellMetadata": {
      "byteLimit": 2048000,
      "rowLimit": 10000
     },
     "inputWidgets": {},
     "nuid": "1026798a-6c98-463d-8ff5-d56523ac9597",
     "showTitle": false,
     "tableResultSettingsMap": {},
     "title": ""
    }
   },
   "outputs": [],
   "source": [
    "traffic_sdf = spark.read.table(\"workspace.default.traffic_30\")\n",
    "weather_sdf = spark.read.table(\"workspace.default.weather_data_30\")"
   ]
  },
  {
   "cell_type": "code",
   "execution_count": 0,
   "metadata": {
    "application/vnd.databricks.v1+cell": {
     "cellMetadata": {
      "byteLimit": 2048000,
      "rowLimit": 10000
     },
     "inputWidgets": {},
     "nuid": "c8f7826e-60b6-439b-9d18-3dfc0a8cf2a8",
     "showTitle": false,
     "tableResultSettingsMap": {},
     "title": ""
    }
   },
   "outputs": [],
   "source": [
    "display(traffic_sdf.select('origin').distinct())"
   ]
  },
  {
   "cell_type": "code",
   "execution_count": 0,
   "metadata": {
    "application/vnd.databricks.v1+cell": {
     "cellMetadata": {
      "byteLimit": 2048000,
      "rowLimit": 10000
     },
     "inputWidgets": {},
     "nuid": "28a34364-b5a1-4f5c-a83c-0f89777dac3f",
     "showTitle": false,
     "tableResultSettingsMap": {},
     "title": ""
    }
   },
   "outputs": [],
   "source": [
    "display(traffic_sdf.select('datetime').distinct())"
   ]
  },
  {
   "cell_type": "code",
   "execution_count": 0,
   "metadata": {
    "application/vnd.databricks.v1+cell": {
     "cellMetadata": {
      "byteLimit": 2048000,
      "rowLimit": 10000
     },
     "inputWidgets": {},
     "nuid": "3fd5289c-19bb-49e1-8186-b6f34b57f6b7",
     "showTitle": false,
     "tableResultSettingsMap": {},
     "title": ""
    }
   },
   "outputs": [],
   "source": [
    "traffic_df = traffic_sdf.toPandas()\n",
    "weather_df = weather_sdf.toPandas()"
   ]
  },
  {
   "cell_type": "code",
   "execution_count": 0,
   "metadata": {
    "application/vnd.databricks.v1+cell": {
     "cellMetadata": {
      "byteLimit": 2048000,
      "rowLimit": 10000
     },
     "inputWidgets": {},
     "nuid": "98664497-403a-4b35-b539-8a63c8133c06",
     "showTitle": false,
     "tableResultSettingsMap": {},
     "title": ""
    }
   },
   "outputs": [],
   "source": [
    "traffic_df['start_time'] = pd.to_datetime(traffic_df['time'])\n",
    "weather_df['time'] = pd.to_datetime(weather_df['time'])"
   ]
  },
  {
   "cell_type": "code",
   "execution_count": 0,
   "metadata": {
    "application/vnd.databricks.v1+cell": {
     "cellMetadata": {
      "byteLimit": 2048000,
      "rowLimit": 10000
     },
     "inputWidgets": {},
     "nuid": "df8529c5-af3f-4f88-af39-4c1a6604457b",
     "showTitle": false,
     "tableResultSettingsMap": {},
     "title": ""
    }
   },
   "outputs": [],
   "source": [
    "traffic_df.head()"
   ]
  },
  {
   "cell_type": "code",
   "execution_count": 0,
   "metadata": {
    "application/vnd.databricks.v1+cell": {
     "cellMetadata": {
      "byteLimit": 2048000,
      "rowLimit": 10000
     },
     "inputWidgets": {},
     "nuid": "0ba155fe-5de1-44a5-94ac-0646b7d01862",
     "showTitle": false,
     "tableResultSettingsMap": {},
     "title": ""
    }
   },
   "outputs": [],
   "source": [
    "weather_df['location'] = weather_df['location']+', Hyderabad'"
   ]
  },
  {
   "cell_type": "code",
   "execution_count": 0,
   "metadata": {
    "application/vnd.databricks.v1+cell": {
     "cellMetadata": {
      "byteLimit": 2048000,
      "rowLimit": 10000
     },
     "inputWidgets": {},
     "nuid": "d8ee0ba5-3eb6-46e3-9c47-2f9cfc1eba78",
     "showTitle": false,
     "tableResultSettingsMap": {},
     "title": ""
    }
   },
   "outputs": [],
   "source": [
    "merged_df = traffic_df.merge(\n",
    "    weather_df,\n",
    "    left_on=['start_time', 'origin'],\n",
    "    right_on=['time', 'location'],\n",
    "    how='left',\n",
    "    suffixes=('', '_origin')\n",
    ")"
   ]
  },
  {
   "cell_type": "code",
   "execution_count": 0,
   "metadata": {
    "application/vnd.databricks.v1+cell": {
     "cellMetadata": {
      "byteLimit": 2048000,
      "rowLimit": 10000
     },
     "inputWidgets": {},
     "nuid": "52c244b8-ea0b-45c7-93b8-479ccf1f613a",
     "showTitle": false,
     "tableResultSettingsMap": {},
     "title": ""
    }
   },
   "outputs": [],
   "source": [
    "weather_df[weather_df['time'] == '2025-05-30 06:00:00']"
   ]
  },
  {
   "cell_type": "code",
   "execution_count": 0,
   "metadata": {
    "application/vnd.databricks.v1+cell": {
     "cellMetadata": {
      "byteLimit": 2048000,
      "rowLimit": 10000
     },
     "inputWidgets": {},
     "nuid": "49f0355c-e337-46ca-9e37-17f3e6aba8bf",
     "showTitle": false,
     "tableResultSettingsMap": {},
     "title": ""
    }
   },
   "outputs": [],
   "source": [
    "merged_df.head()"
   ]
  },
  {
   "cell_type": "code",
   "execution_count": 0,
   "metadata": {
    "application/vnd.databricks.v1+cell": {
     "cellMetadata": {
      "byteLimit": 2048000,
      "rowLimit": 10000
     },
     "inputWidgets": {},
     "nuid": "908dc51c-14df-40f8-8dd6-de94f893a752",
     "showTitle": false,
     "tableResultSettingsMap": {},
     "title": ""
    }
   },
   "outputs": [],
   "source": [
    "merged_df.columns"
   ]
  },
  {
   "cell_type": "markdown",
   "metadata": {
    "application/vnd.databricks.v1+cell": {
     "cellMetadata": {},
     "inputWidgets": {},
     "nuid": "aac34545-838c-4a5e-8cb4-71a8d6f39f1e",
     "showTitle": false,
     "tableResultSettingsMap": {},
     "title": ""
    }
   },
   "source": [
    "# ML Model Pipeline"
   ]
  },
  {
   "cell_type": "code",
   "execution_count": 0,
   "metadata": {
    "application/vnd.databricks.v1+cell": {
     "cellMetadata": {
      "byteLimit": 2048000,
      "rowLimit": 10000
     },
     "inputWidgets": {},
     "nuid": "a4dfd54d-c24d-43bc-8725-c9876ee013ea",
     "showTitle": false,
     "tableResultSettingsMap": {},
     "title": ""
    }
   },
   "outputs": [],
   "source": [
    "# Drop rows with missing critical values\n",
    "merged_df = merged_df.dropna(subset=[\n",
    "    \"duration_in_traffic_minutes\", \"temperature_2m\", \"relative_humidity_2m\", \n",
    "    \"precipitation\", \"wind_speed_combined\"\n",
    "])"
   ]
  },
  {
   "cell_type": "code",
   "execution_count": 0,
   "metadata": {
    "application/vnd.databricks.v1+cell": {
     "cellMetadata": {
      "byteLimit": 2048000,
      "rowLimit": 10000
     },
     "inputWidgets": {},
     "nuid": "40c92cc3-76f9-4805-bb37-66e91a1e2ca6",
     "showTitle": false,
     "tableResultSettingsMap": {},
     "title": ""
    }
   },
   "outputs": [],
   "source": [
    "merged_df.shape"
   ]
  },
  {
   "cell_type": "code",
   "execution_count": 0,
   "metadata": {
    "application/vnd.databricks.v1+cell": {
     "cellMetadata": {
      "byteLimit": 2048000,
      "rowLimit": 10000
     },
     "inputWidgets": {},
     "nuid": "0fed8f1d-f5f9-42a6-9bba-ecbe73575575",
     "showTitle": false,
     "tableResultSettingsMap": {},
     "title": ""
    }
   },
   "outputs": [],
   "source": [
    "# Feature engineering\n",
    "merged_df[\"hour\"] = pd.to_datetime(merged_df[\"start_time\"]).dt.hour\n",
    "merged_df[\"dayofweek\"] = pd.to_datetime(merged_df[\"start_time\"]).dt.dayofweek"
   ]
  },
  {
   "cell_type": "code",
   "execution_count": 0,
   "metadata": {
    "application/vnd.databricks.v1+cell": {
     "cellMetadata": {
      "byteLimit": 2048000,
      "rowLimit": 10000
     },
     "inputWidgets": {},
     "nuid": "3ffd6885-9331-476c-8d45-5e16bcba6c2a",
     "showTitle": false,
     "tableResultSettingsMap": {},
     "title": ""
    }
   },
   "outputs": [],
   "source": [
    "# Define features and target\n",
    "features = [\n",
    "    \"origin\", \"destination\", \"temperature_2m\", \"relative_humidity_2m\", \n",
    "    \"precipitation\", \"wind_speed_combined\", \"hour\", \"dayofweek\"\n",
    "]\n",
    "target = \"duration_in_traffic_minutes\""
   ]
  },
  {
   "cell_type": "code",
   "execution_count": 0,
   "metadata": {
    "application/vnd.databricks.v1+cell": {
     "cellMetadata": {
      "byteLimit": 2048000,
      "rowLimit": 10000
     },
     "inputWidgets": {},
     "nuid": "104ff0ab-a2f8-4eac-93e3-2127a47f04fd",
     "showTitle": false,
     "tableResultSettingsMap": {},
     "title": ""
    }
   },
   "outputs": [],
   "source": [
    "X = merged_df[features]\n",
    "y = merged_df[target]"
   ]
  },
  {
   "cell_type": "code",
   "execution_count": 0,
   "metadata": {
    "application/vnd.databricks.v1+cell": {
     "cellMetadata": {
      "byteLimit": 2048000,
      "rowLimit": 10000
     },
     "inputWidgets": {},
     "nuid": "f1b6c22b-bd3a-41da-9664-cc8f47e96f02",
     "showTitle": false,
     "tableResultSettingsMap": {},
     "title": ""
    }
   },
   "outputs": [],
   "source": [
    "# One-hot encode categorical features\n",
    "X_encoded = pd.get_dummies(X, columns=[\"origin\", \"destination\"], drop_first=True)"
   ]
  },
  {
   "cell_type": "code",
   "execution_count": 0,
   "metadata": {
    "application/vnd.databricks.v1+cell": {
     "cellMetadata": {
      "byteLimit": 2048000,
      "rowLimit": 10000
     },
     "inputWidgets": {},
     "nuid": "9f9c362f-152b-4290-82de-70c764a0247a",
     "showTitle": false,
     "tableResultSettingsMap": {},
     "title": ""
    }
   },
   "outputs": [],
   "source": [
    "X.columns"
   ]
  },
  {
   "cell_type": "markdown",
   "metadata": {
    "application/vnd.databricks.v1+cell": {
     "cellMetadata": {},
     "inputWidgets": {},
     "nuid": "450cf03e-69be-402f-824b-4f19b517ad5b",
     "showTitle": false,
     "tableResultSettingsMap": {},
     "title": ""
    }
   },
   "source": [
    "## 2. Train/Test Split and Model Training"
   ]
  },
  {
   "cell_type": "code",
   "execution_count": 0,
   "metadata": {
    "application/vnd.databricks.v1+cell": {
     "cellMetadata": {
      "byteLimit": 2048000,
      "rowLimit": 10000
     },
     "inputWidgets": {},
     "nuid": "3ae84144-0b95-403d-9c63-35faf6349e62",
     "showTitle": false,
     "tableResultSettingsMap": {},
     "title": ""
    }
   },
   "outputs": [],
   "source": [
    "X_train, X_test, y_train, y_test = train_test_split(\n",
    "    X_encoded, y, test_size=0.2, random_state=42\n",
    ")\n",
    "\n",
    "model = RandomForestRegressor(n_estimators=100, random_state=42)\n",
    "model.fit(X_train, y_train)\n",
    "\n",
    "y_pred = model.predict(X_test)"
   ]
  },
  {
   "cell_type": "code",
   "execution_count": 0,
   "metadata": {
    "application/vnd.databricks.v1+cell": {
     "cellMetadata": {
      "byteLimit": 2048000,
      "rowLimit": 10000
     },
     "inputWidgets": {},
     "nuid": "c84b217c-f69b-45fd-a7c3-1595b119d1b7",
     "showTitle": false,
     "tableResultSettingsMap": {},
     "title": ""
    }
   },
   "outputs": [],
   "source": [
    "X_train.columns"
   ]
  },
  {
   "cell_type": "markdown",
   "metadata": {
    "application/vnd.databricks.v1+cell": {
     "cellMetadata": {},
     "inputWidgets": {},
     "nuid": "25a0f51c-f2dd-440a-9cb9-aaf5ae30e195",
     "showTitle": false,
     "tableResultSettingsMap": {},
     "title": ""
    }
   },
   "source": [
    "## 3. Evaluation Metrics"
   ]
  },
  {
   "cell_type": "code",
   "execution_count": 0,
   "metadata": {
    "application/vnd.databricks.v1+cell": {
     "cellMetadata": {
      "byteLimit": 2048000,
      "rowLimit": 10000
     },
     "inputWidgets": {},
     "nuid": "7b258e7e-e068-4f80-9708-de886820b25f",
     "showTitle": false,
     "tableResultSettingsMap": {},
     "title": ""
    }
   },
   "outputs": [],
   "source": [
    "mae = mean_absolute_error(y_test, y_pred)\n",
    "mse = mean_squared_error(y_test, y_pred)\n",
    "rmse = np.sqrt(mse)\n",
    "r2 = r2_score(y_test, y_pred)\n",
    "\n",
    "print(f\"MAE: {mae:.2f} mins\")\n",
    "print(f\"RMSE: {rmse:.2f} mins\")\n",
    "print(f\"R² Score: {r2:.2f}\")"
   ]
  },
  {
   "cell_type": "markdown",
   "metadata": {
    "application/vnd.databricks.v1+cell": {
     "cellMetadata": {},
     "inputWidgets": {},
     "nuid": "6fe2afb3-2121-4322-a7d3-e30fbfd69988",
     "showTitle": false,
     "tableResultSettingsMap": {},
     "title": ""
    }
   },
   "source": [
    "## 4. Real-Time Prediction Using Open-Meteo API"
   ]
  },
  {
   "cell_type": "code",
   "execution_count": 0,
   "metadata": {
    "application/vnd.databricks.v1+cell": {
     "cellMetadata": {
      "byteLimit": 2048000,
      "rowLimit": 10000
     },
     "inputWidgets": {},
     "nuid": "b237bada-92df-43ec-82cd-c2c468f98396",
     "showTitle": false,
     "tableResultSettingsMap": {},
     "title": ""
    }
   },
   "outputs": [],
   "source": [
    "def predict_eta(origin, destination, dt_obj, coords, expected_columns, model):\n",
    "    import requests\n",
    "    import pandas as pd\n",
    "\n",
    "    # 1. Fetch weather\n",
    "    latitude, longitude = coords\n",
    "    date_str = dt_obj.strftime('%Y-%m-%d')\n",
    "    hour_str = dt_obj.strftime('%H:00')\n",
    "\n",
    "    url = f\"https://api.open-meteo.com/v1/forecast?latitude={latitude}&longitude={longitude}&hourly=temperature_2m,relative_humidity_2m,precipitation,windspeed_10m&start_date={date_str}&end_date={date_str}&timezone=Asia%2FKolkata\"\n",
    "    response = requests.get(url)\n",
    "    weather = response.json()\n",
    "\n",
    "    hour_index = weather['hourly']['time'].index(f\"{date_str}T{hour_str}\")\n",
    "    temp = weather['hourly']['temperature_2m'][hour_index]\n",
    "    humidity = weather['hourly']['relative_humidity_2m'][hour_index]\n",
    "    precip = weather['hourly']['precipitation'][hour_index]\n",
    "    wind = weather['hourly']['windspeed_10m'][hour_index]\n",
    "\n",
    "    # 2. Prepare input row\n",
    "    features_input = {\n",
    "        'temperature_2m': 32.9,\n",
    "        'relative_humidity_2m': 34,\n",
    "        'precipitation': 0.0,\n",
    "        'wind_speed_combined': 31.6,\n",
    "        'hour': dt_obj.hour,\n",
    "        'dayofweek': dt_obj.weekday(),\n",
    "        f'origin_{origin}': 1,\n",
    "        f'destination_{destination}': 1\n",
    "    }\n",
    "\n",
    "    # 3. Convert to DataFrame\n",
    "    input_df = pd.DataFrame([features_input])\n",
    "\n",
    "    # 4. Reindex to match training columns\n",
    "    input_df = input_df.reindex(columns=expected_columns, fill_value=0)\n",
    "\n",
    "    # 5. Predict ETA\n",
    "    eta = model.predict(input_df)[0]\n",
    "    return eta"
   ]
  },
  {
   "cell_type": "markdown",
   "metadata": {
    "application/vnd.databricks.v1+cell": {
     "cellMetadata": {},
     "inputWidgets": {},
     "nuid": "137d0e5b-8d98-472a-a181-18678903a44c",
     "showTitle": false,
     "tableResultSettingsMap": {},
     "title": ""
    }
   },
   "source": [
    "### Fetching `latitude` and `longitude` using Nominatim (OpenStreetMap)"
   ]
  },
  {
   "cell_type": "code",
   "execution_count": 0,
   "metadata": {
    "application/vnd.databricks.v1+cell": {
     "cellMetadata": {
      "byteLimit": 2048000,
      "rowLimit": 10000
     },
     "inputWidgets": {},
     "nuid": "6959daca-3c3f-4ba6-8885-824e18208383",
     "showTitle": false,
     "tableResultSettingsMap": {},
     "title": ""
    }
   },
   "outputs": [],
   "source": [
    "import requests\n",
    "import time"
   ]
  },
  {
   "cell_type": "code",
   "execution_count": 0,
   "metadata": {
    "application/vnd.databricks.v1+cell": {
     "cellMetadata": {
      "byteLimit": 2048000,
      "rowLimit": 10000
     },
     "inputWidgets": {},
     "nuid": "817f89df-ae4b-4ed9-8e6d-0300cdd6f088",
     "showTitle": false,
     "tableResultSettingsMap": {},
     "title": ""
    }
   },
   "outputs": [],
   "source": [
    "def get_coordinates(location_str):\n",
    "    \"\"\"\n",
    "    location_str: e.g. 'Kondapur, Hyderabad, Telangana, India'\n",
    "    returns: (latitude, longitude) tuple or None\n",
    "    \"\"\"\n",
    "    url = \"https://nominatim.openstreetmap.org/search\"\n",
    "    params = {\n",
    "        'q': location_str,\n",
    "        'format': 'json',\n",
    "        'limit': 1\n",
    "    }\n",
    "    headers = {\n",
    "        'User-Agent': 'YourAppNameHere (your@email.com)'  # Required\n",
    "    }\n",
    "\n",
    "    response = requests.get(url, params=params, headers=headers)\n",
    "    if response.status_code == 200:\n",
    "        data = response.json()\n",
    "        if data:\n",
    "            lat = float(data[0]['lat'])\n",
    "            lon = float(data[0]['lon'])\n",
    "            return (lat, lon)\n",
    "    return None\n"
   ]
  },
  {
   "cell_type": "code",
   "execution_count": 0,
   "metadata": {
    "application/vnd.databricks.v1+cell": {
     "cellMetadata": {
      "byteLimit": 2048000,
      "rowLimit": 10000
     },
     "inputWidgets": {},
     "nuid": "f70987ee-4fc2-4aca-8e6b-a2d30bcf3d31",
     "showTitle": false,
     "tableResultSettingsMap": {},
     "title": ""
    }
   },
   "outputs": [],
   "source": [
    "# Use your actual trained model and expected_columns\n",
    "eta = predict_eta(\n",
    "    origin=\"Kondapur, Hyderabad\",\n",
    "    destination=\"Secunderabad, Hyderabad\",\n",
    "    dt_obj=datetime(2025, 6, 12, 11, 0),\n",
    "    coords=(17.4579, 78.3650),\n",
    "    expected_columns=X_train.columns,  # this should be saved earlier\n",
    "    model=model\n",
    ")\n",
    "print(f\"Predicted ETA: {eta:.2f} minutes\")"
   ]
  },
  {
   "cell_type": "markdown",
   "metadata": {
    "application/vnd.databricks.v1+cell": {
     "cellMetadata": {},
     "inputWidgets": {},
     "nuid": "e7214fde-60c9-4edc-a266-b19d68b0fe9b",
     "showTitle": false,
     "tableResultSettingsMap": {},
     "title": ""
    }
   },
   "source": [
    "## Demo"
   ]
  },
  {
   "cell_type": "code",
   "execution_count": 0,
   "metadata": {
    "application/vnd.databricks.v1+cell": {
     "cellMetadata": {
      "byteLimit": 2048000,
      "rowLimit": 10000
     },
     "inputWidgets": {},
     "nuid": "67376ece-e7c2-4b4b-8238-2bbe75a688c9",
     "showTitle": false,
     "tableResultSettingsMap": {},
     "title": ""
    }
   },
   "outputs": [],
   "source": [
    "# Example usage\n",
    "locations = {\n",
    "    1: 'Kondapur, Hyderabad, Telangana, India',\n",
    "    2: 'Miyapur, Hyderabad, Telangana, India',\n",
    "    3: 'Secunderabad, Telangana, India',\n",
    "    4: 'Begumpet, Hyderabad, Telangana, India'\n",
    "}\n",
    "print('Please choose a location id from the list below:')\n",
    "for key, value in locations.items():\n",
    "    print(f'{key}: {value}')\n",
    "\n",
    "travel_origin = int(input('\\n\\nWhere do you start from? >>> '))\n",
    "if travel_origin > 4 or travel_origin < 1:\n",
    "    print('Invalid location id')\n",
    "    exit()\n",
    "travel_destination = int(input('Where would you like to go? >>> '))\n",
    "if travel_destination > 4 or travel_destination < 1:\n",
    "    print('Invalid location id')\n",
    "    exit()\n",
    "travel_datetime = input('When do you plan on travelling in YYYY-MM-DD HH:MM format? >>>')\n",
    "try:\n",
    "    dt = datetime.strptime(travel_datetime, '%Y-%m-%d %H:%M')\n",
    "except Exception:\n",
    "    print('Invalid datetime')\n",
    "    exit()"
   ]
  },
  {
   "cell_type": "code",
   "execution_count": 0,
   "metadata": {
    "application/vnd.databricks.v1+cell": {
     "cellMetadata": {
      "byteLimit": 2048000,
      "rowLimit": 10000
     },
     "inputWidgets": {},
     "nuid": "76d40167-4d82-4880-ac32-dd03e872aea4",
     "showTitle": false,
     "tableResultSettingsMap": {},
     "title": ""
    }
   },
   "outputs": [],
   "source": [
    "dt = datetime.strptime(travel_datetime, '%Y-%m-%d %H:%M')\n",
    "origin = locations[travel_origin].split(',')\n",
    "dest = locations[travel_destination].split(',')\n",
    "eta = predict_eta(\n",
    "    origin = origin[0] + ', ' + origin[1],\n",
    "    destination = dest[0] + ', ' + dest[1],\n",
    "    dt_obj = dt,\n",
    "    coords = get_coordinates(locations[travel_origin]),\n",
    "    expected_columns = X_train.columns,  \n",
    "    model = model\n",
    ")\n",
    "print(f'Travelling from {origin[0]} to {dest[0]} on {dt.strftime(\"%Y-%m-%d\")} at {dt.strftime(\"%H:%M\")}')\n",
    "print(f\"Predicted ETA: {eta:.2f} minutes\")"
   ]
  },
  {
   "cell_type": "code",
   "execution_count": 0,
   "metadata": {
    "application/vnd.databricks.v1+cell": {
     "cellMetadata": {},
     "inputWidgets": {},
     "nuid": "153f64b1-a925-4973-aa23-c4077c778b52",
     "showTitle": false,
     "tableResultSettingsMap": {},
     "title": ""
    }
   },
   "outputs": [],
   "source": []
  }
 ],
 "metadata": {
  "application/vnd.databricks.v1+notebook": {
   "computePreferences": null,
   "dashboards": [],
   "environmentMetadata": {
    "base_environment": "",
    "environment_version": "2"
   },
   "inputWidgetPreferences": null,
   "language": "python",
   "notebookMetadata": {
    "pythonIndentUnit": 4
   },
   "notebookName": "ML model",
   "widgets": {}
  },
  "language_info": {
   "name": "python"
  }
 },
 "nbformat": 4,
 "nbformat_minor": 0
}
