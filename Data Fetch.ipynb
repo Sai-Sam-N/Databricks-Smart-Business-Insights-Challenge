{
 "cells": [
  {
   "cell_type": "code",
   "execution_count": 0,
   "metadata": {
    "application/vnd.databricks.v1+cell": {
     "cellMetadata": {},
     "inputWidgets": {},
     "nuid": "dadc42c3-f59b-4b21-b209-ffc17692d289",
     "showTitle": false,
     "tableResultSettingsMap": {},
     "title": ""
    }
   },
   "outputs": [],
   "source": [
    "import requests\n",
    "import datetime\n",
    "import time\n",
    "import pandas as pd"
   ]
  },
  {
   "cell_type": "code",
   "execution_count": 0,
   "metadata": {
    "application/vnd.databricks.v1+cell": {
     "cellMetadata": {},
     "inputWidgets": {},
     "nuid": "d1dcbc86-07c9-4dd4-ad24-9bd121a39157",
     "showTitle": false,
     "tableResultSettingsMap": {},
     "title": ""
    }
   },
   "outputs": [],
   "source": [
    "# Your API key (USE SECRETS IN PRODUCTION!)\n",
    "API_KEY = \"YOUR_API_KEY_HERE\"\n",
    "\n",
    "# Define origins and destinations\n",
    "origins = [\"Kukatpally, Hyderabad\", \"Miyapur, Hyderabad\"]\n",
    "destinations = [\"Gachibowli, Hyderabad\", \"Banjara Hills, Hyderabad\"]\n",
    "\n",
    "# Define date and time range\n",
    "start_date = datetime.date(2025, 5, 25)\n",
    "end_date = datetime.date(2025, 5, 31)\n",
    "hour_range = range(7, 24)  # 7 AM to 11 PM\n",
    "\n",
    "# Storage for results\n",
    "results = []\n",
    "\n",
    "# Loop through dates and hours\n",
    "for single_date in (start_date + datetime.timedelta(n) for n in range((end_date - start_date).days + 1)):\n",
    "    for hour in hour_range:\n",
    "        departure_time = int(datetime.datetime.combine(single_date, datetime.time(hour)).timestamp())\n",
    "\n",
    "        for origin in origins:\n",
    "            for destination in destinations:\n",
    "                url = (\n",
    "                    f\"https://maps.googleapis.com/maps/api/distancematrix/json\"\n",
    "                    f\"?origins={origin}&destinations={destination}\"\n",
    "                    f\"&departure_time={departure_time}&key={API_KEY}\"\n",
    "                )\n",
    "                try:\n",
    "                    response = requests.get(url)\n",
    "                    data = response.json()\n",
    "                    \n",
    "                    if data[\"status\"] == \"OK\":\n",
    "                        row = data[\"rows\"][0][\"elements\"][0]\n",
    "                        results.append({\n",
    "                            \"date\": single_date.strftime(\"%Y-%m-%d\"),\n",
    "                            \"hour\": hour,\n",
    "                            \"origin\": origin,\n",
    "                            \"destination\": destination,\n",
    "                            \"distance_text\": row.get(\"distance\", {}).get(\"text\"),\n",
    "                            \"distance_value\": row.get(\"distance\", {}).get(\"value\"),\n",
    "                            \"duration_text\": row.get(\"duration\", {}).get(\"text\"),\n",
    "                            \"duration_value\": row.get(\"duration\", {}).get(\"value\"),\n",
    "                            \"duration_in_traffic_text\": row.get(\"duration_in_traffic\", {}).get(\"text\"),\n",
    "                            \"duration_in_traffic_value\": row.get(\"duration_in_traffic\", {}).get(\"value\")\n",
    "                        })\n",
    "                    else:\n",
    "                        print(f\"Failed for {origin} → {destination} at {hour}: {data['status']}\")\n",
    "                except Exception as e:\n",
    "                    print(f\"Error: {e}\")\n",
    "                \n",
    "                # Respect API rate limits — wait a bit between calls\n",
    "                time.sleep(1.1)\n",
    "\n",
    "# Convert to DataFrame\n",
    "df = pd.DataFrame(results)\n",
    "display(df)\n",
    "\n",
    "# Optional: save to DBFS or table\n",
    "df.write.format(\"delta\").save(\"/mnt/traffic_data/member_d_week1\")"
   ]
  },
  {
   "cell_type": "code",
   "execution_count": 0,
   "metadata": {
    "application/vnd.databricks.v1+cell": {
     "cellMetadata": {
      "byteLimit": 2048000,
      "implicitDf": true,
      "rowLimit": 10000
     },
     "inputWidgets": {},
     "nuid": "bbf05d43-cec0-454b-89de-c083eba8866f",
     "showTitle": false,
     "tableResultSettingsMap": {},
     "title": ""
    }
   },
   "outputs": [],
   "source": [
    "%sql select * from workspace.default.lahari"
   ]
  },
  {
   "cell_type": "code",
   "execution_count": 0,
   "metadata": {
    "application/vnd.databricks.v1+cell": {
     "cellMetadata": {
      "byteLimit": 2048000,
      "rowLimit": 10000
     },
     "inputWidgets": {},
     "nuid": "a7f48114-1ad7-4e45-8320-4efaf93d9aa6",
     "showTitle": false,
     "tableResultSettingsMap": {},
     "title": ""
    }
   },
   "outputs": [],
   "source": [
    "df = spark.sql(\"select distinct date from workspace.default.Traffic_analysis\")"
   ]
  },
  {
   "cell_type": "code",
   "execution_count": 0,
   "metadata": {
    "application/vnd.databricks.v1+cell": {
     "cellMetadata": {
      "byteLimit": 2048000,
      "rowLimit": 10000
     },
     "inputWidgets": {},
     "nuid": "d9d0a111-d4a3-4f6a-bc6c-635e0934c65e",
     "showTitle": false,
     "tableResultSettingsMap": {},
     "title": ""
    }
   },
   "outputs": [],
   "source": [
    "df.display()"
   ]
  },
  {
   "cell_type": "code",
   "execution_count": 0,
   "metadata": {
    "application/vnd.databricks.v1+cell": {
     "cellMetadata": {
      "byteLimit": 2048000,
      "implicitDf": true,
      "rowLimit": 10000
     },
     "inputWidgets": {},
     "nuid": "f6272ed7-eab5-46d4-a566-9996f21bdb04",
     "showTitle": false,
     "tableResultSettingsMap": {},
     "title": ""
    }
   },
   "outputs": [],
   "source": [
    "%sql\n",
    "SELECT * FROM workspace.default.samyuktha_trafficData"
   ]
  },
  {
   "cell_type": "code",
   "execution_count": 0,
   "metadata": {
    "application/vnd.databricks.v1+cell": {
     "cellMetadata": {
      "byteLimit": 2048000,
      "implicitDf": true,
      "rowLimit": 10000
     },
     "inputWidgets": {},
     "nuid": "f3ac0e40-272e-4a92-a6fa-0aba93c69b11",
     "showTitle": false,
     "tableResultSettingsMap": {},
     "title": ""
    }
   },
   "outputs": [],
   "source": [
    "%sql\n",
    "SELECT DISTINCT origin FROM workspace.default.traffic_analysis"
   ]
  },
  {
   "cell_type": "code",
   "execution_count": 0,
   "metadata": {
    "application/vnd.databricks.v1+cell": {
     "cellMetadata": {
      "byteLimit": 2048000,
      "implicitDf": true,
      "rowLimit": 10000
     },
     "inputWidgets": {},
     "nuid": "d860d8f8-c5bc-452c-967c-9a4a61bab7fe",
     "showTitle": false,
     "tableResultSettingsMap": {},
     "title": ""
    }
   },
   "outputs": [],
   "source": [
    "# %sql\n",
    "# SELECT date,date_format(date, 'EEEE') AS day_of_week\n",
    "# FROM workspace.default.traffic_analysis"
   ]
  },
  {
   "cell_type": "code",
   "execution_count": 0,
   "metadata": {
    "application/vnd.databricks.v1+cell": {
     "cellMetadata": {
      "byteLimit": 2048000,
      "rowLimit": 10000
     },
     "inputWidgets": {},
     "nuid": "7378c61c-f43b-4714-89f8-2ee53096aba8",
     "showTitle": false,
     "tableResultSettingsMap": {},
     "title": ""
    }
   },
   "outputs": [],
   "source": [
    "df_Sam = spark.sql(\"SELECT * FROM workspace.default.samyuktha_trafficData\")"
   ]
  },
  {
   "cell_type": "code",
   "execution_count": 0,
   "metadata": {
    "application/vnd.databricks.v1+cell": {
     "cellMetadata": {
      "byteLimit": 2048000,
      "rowLimit": 10000
     },
     "inputWidgets": {},
     "nuid": "68552488-4512-4f43-a0ce-abadf42ffd97",
     "showTitle": false,
     "tableResultSettingsMap": {},
     "title": ""
    }
   },
   "outputs": [],
   "source": [
    "(df_Sam.count(), len(df_Sam.columns))"
   ]
  },
  {
   "cell_type": "code",
   "execution_count": 0,
   "metadata": {
    "application/vnd.databricks.v1+cell": {
     "cellMetadata": {
      "byteLimit": 2048000,
      "rowLimit": 10000
     },
     "inputWidgets": {},
     "nuid": "a8d84e05-45f9-4008-8e0a-a79b5e0b5111",
     "showTitle": false,
     "tableResultSettingsMap": {},
     "title": ""
    }
   },
   "outputs": [],
   "source": [
    "df_Sam.head()"
   ]
  },
  {
   "cell_type": "code",
   "execution_count": 0,
   "metadata": {
    "application/vnd.databricks.v1+cell": {
     "cellMetadata": {
      "byteLimit": 2048000,
      "rowLimit": 10000
     },
     "inputWidgets": {},
     "nuid": "1771d97f-cf31-40fa-b26f-049e570ce82d",
     "showTitle": false,
     "tableResultSettingsMap": {},
     "title": ""
    }
   },
   "outputs": [],
   "source": [
    "df_Sam.write.insertInto(\"workspace.default.traffic_analysis\", overwrite=False)"
   ]
  },
  {
   "cell_type": "code",
   "execution_count": 0,
   "metadata": {
    "application/vnd.databricks.v1+cell": {
     "cellMetadata": {
      "byteLimit": 2048000,
      "implicitDf": true,
      "rowLimit": 10000
     },
     "inputWidgets": {},
     "nuid": "f889c459-588e-41f3-8a61-40283e63bb64",
     "showTitle": false,
     "tableResultSettingsMap": {},
     "title": ""
    }
   },
   "outputs": [],
   "source": [
    "%sql\n",
    "SELECT DISTINCT origin FROM workspace.default.traffic_analysis"
   ]
  },
  {
   "cell_type": "markdown",
   "metadata": {
    "application/vnd.databricks.v1+cell": {
     "cellMetadata": {},
     "inputWidgets": {},
     "nuid": "a49cd69e-4e47-4773-bfee-54b863e09748",
     "showTitle": false,
     "tableResultSettingsMap": {},
     "title": ""
    }
   },
   "source": [
    "Samyuktha"
   ]
  },
  {
   "cell_type": "code",
   "execution_count": 0,
   "metadata": {
    "application/vnd.databricks.v1+cell": {
     "cellMetadata": {},
     "inputWidgets": {},
     "nuid": "5dd7e7f2-7aea-4fe5-bc1f-f0e2425e5eb6",
     "showTitle": false,
     "tableResultSettingsMap": {},
     "title": ""
    }
   },
   "outputs": [],
   "source": []
  },
  {
   "cell_type": "code",
   "execution_count": 0,
   "metadata": {
    "application/vnd.databricks.v1+cell": {
     "cellMetadata": {
      "byteLimit": 2048000,
      "rowLimit": 10000
     },
     "inputWidgets": {},
     "nuid": "1949f7ad-802b-4fd7-9b47-cb5b967a64a6",
     "showTitle": false,
     "tableResultSettingsMap": {},
     "title": ""
    }
   },
   "outputs": [],
   "source": [
    "# Gyana inserting Data\n",
    "df = spark.read.csv(\"C:/Users/hp/Downloads/traffic-data-project/traffic_data_week1.csv\", header=True, inferSchema=True)\n",
    "df.write.insertInto(\"workspace.default.traffic_analysis\", overwrite=False)\n"
   ]
  },
  {
   "cell_type": "markdown",
   "metadata": {
    "application/vnd.databricks.v1+cell": {
     "cellMetadata": {},
     "inputWidgets": {},
     "nuid": "f6ccd763-2225-4014-9e87-d8b52d411331",
     "showTitle": false,
     "tableResultSettingsMap": {},
     "title": ""
    }
   },
   "source": [
    "Geyani"
   ]
  },
  {
   "cell_type": "code",
   "execution_count": 0,
   "metadata": {
    "application/vnd.databricks.v1+cell": {
     "cellMetadata": {
      "byteLimit": 2048000,
      "implicitDf": true,
      "rowLimit": 10000
     },
     "inputWidgets": {},
     "nuid": "29487f28-0916-464b-97aa-50e49c8af811",
     "showTitle": false,
     "tableResultSettingsMap": {},
     "title": ""
    }
   },
   "outputs": [],
   "source": [
    "%sql \n",
    "describe table workspace.default.traffic_analysis"
   ]
  },
  {
   "cell_type": "code",
   "execution_count": 0,
   "metadata": {
    "application/vnd.databricks.v1+cell": {
     "cellMetadata": {
      "byteLimit": 2048000,
      "implicitDf": true,
      "rowLimit": 10000
     },
     "collapsed": true,
     "inputWidgets": {},
     "nuid": "b3482e08-963f-4c97-bb34-409e461b90ba",
     "showTitle": false,
     "tableResultSettingsMap": {},
     "title": ""
    }
   },
   "outputs": [],
   "source": [
    "%sql\n",
    "select distinct date, day_of_week from workspace.default.traffic_analysis limit 10"
   ]
  },
  {
   "cell_type": "code",
   "execution_count": 0,
   "metadata": {
    "application/vnd.databricks.v1+cell": {
     "cellMetadata": {
      "byteLimit": 2048000,
      "rowLimit": 10000
     },
     "collapsed": true,
     "inputWidgets": {},
     "nuid": "6ced251f-9b2c-4040-bbde-ee9489746f49",
     "showTitle": false,
     "tableResultSettingsMap": {},
     "title": ""
    }
   },
   "outputs": [],
   "source": [
    "df = spark.table(\"workspace.default.traffic_analysis\")\n",
    "row_count = df.count()\n",
    "row_count"
   ]
  },
  {
   "cell_type": "code",
   "execution_count": 0,
   "metadata": {
    "application/vnd.databricks.v1+cell": {
     "cellMetadata": {
      "byteLimit": 2048000,
      "implicitDf": true,
      "rowLimit": 10000
     },
     "collapsed": true,
     "inputWidgets": {},
     "nuid": "38a80149-37f9-413b-a138-8fad3a025d87",
     "showTitle": false,
     "tableResultSettingsMap": {},
     "title": ""
    }
   },
   "outputs": [],
   "source": [
    "%sql\n",
    "select * from workspace.default.traffic_analysis limit 5"
   ]
  },
  {
   "cell_type": "code",
   "execution_count": 0,
   "metadata": {
    "application/vnd.databricks.v1+cell": {
     "cellMetadata": {
      "byteLimit": 2048000,
      "rowLimit": 10000
     },
     "collapsed": true,
     "inputWidgets": {},
     "nuid": "b03cfe19-05e2-4e5e-96e7-a6afeca0d874",
     "showTitle": false,
     "tableResultSettingsMap": {},
     "title": ""
    }
   },
   "outputs": [],
   "source": [
    "import holidays\n",
    "from pyspark.sql.functions import udf, col\n",
    "from pyspark.sql.types import BooleanType\n",
    "\n",
    "table_name = \"workspace.default.traffic_analysis\"\n",
    "\n",
    "df = spark.table(table_name)\n",
    "india_holidays = holidays.India()\n",
    "\n",
    "is_holiday_udf = udf(lambda d: d in india_holidays if d else False, BooleanType())\n",
    "df_updated = df.withColumn(\"holiday\", is_holiday_udf(col(\"date\")))\n",
    "\n",
    "df_updated.write.mode(\"overwrite\").option(\"overwriteSchema\", \"true\").saveAsTable(table_name)"
   ]
  },
  {
   "cell_type": "code",
   "execution_count": 0,
   "metadata": {
    "application/vnd.databricks.v1+cell": {
     "cellMetadata": {
      "byteLimit": 2048000,
      "rowLimit": 10000
     },
     "collapsed": true,
     "inputWidgets": {},
     "nuid": "78ef6ead-0d67-4ffa-b80c-4acb854ce7e8",
     "showTitle": false,
     "tableResultSettingsMap": {},
     "title": ""
    }
   },
   "outputs": [],
   "source": [
    "from pyspark.sql.functions import when\n",
    "\n",
    "# Update holiday column to true wherever day_of_week is Sunday\n",
    "df_updated = df_updated.withColumn(\"holiday\", when(col(\"day_of_week\") == \"Sunday\", True).otherwise(col(\"holiday\")))\n",
    "\n",
    "# Save back to same table\n",
    "df_updated.write.mode(\"overwrite\").option(\"overwriteSchema\", \"true\").saveAsTable(table_name)"
   ]
  },
  {
   "cell_type": "code",
   "execution_count": 0,
   "metadata": {
    "application/vnd.databricks.v1+cell": {
     "cellMetadata": {
      "byteLimit": 2048000,
      "implicitDf": true,
      "rowLimit": 10000
     },
     "inputWidgets": {},
     "nuid": "d2e2494b-638f-4a32-a360-039800180a8f",
     "showTitle": false,
     "tableResultSettingsMap": {},
     "title": ""
    }
   },
   "outputs": [],
   "source": [
    "%sql\n",
    "select * from workspace.default.traffic_30 limit 5;"
   ]
  },
  {
   "cell_type": "markdown",
   "metadata": {
    "application/vnd.databricks.v1+cell": {
     "cellMetadata": {},
     "inputWidgets": {},
     "nuid": "3f301c79-66a1-4e85-8c54-d051b47c3cf2",
     "showTitle": false,
     "tableResultSettingsMap": {},
     "title": ""
    }
   },
   "source": []
  }
 ],
 "metadata": {
  "application/vnd.databricks.v1+notebook": {
   "computePreferences": null,
   "dashboards": [
    {
     "elements": [],
     "globalVars": {},
     "guid": "",
     "layoutOption": {
      "grid": true,
      "stack": true
     },
     "nuid": "50ea2a64-9c08-42f5-9781-98c652081184",
     "origId": 8264604707752542,
     "title": "Untitled",
     "version": "DashboardViewV1",
     "width": 1024
    }
   ],
   "environmentMetadata": {
    "base_environment": "",
    "environment_version": "2"
   },
   "inputWidgetPreferences": null,
   "language": "python",
   "notebookMetadata": {
    "mostRecentlyExecutedCommandWithImplicitDF": {
     "commandId": 4666359620460249,
     "dataframes": [
      "_sqldf"
     ]
    },
    "pythonIndentUnit": 4
   },
   "notebookName": "Data Fetch",
   "widgets": {}
  },
  "language_info": {
   "name": "python"
  }
 },
 "nbformat": 4,
 "nbformat_minor": 0
}
