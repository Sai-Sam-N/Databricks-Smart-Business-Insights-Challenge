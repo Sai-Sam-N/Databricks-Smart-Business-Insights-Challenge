{
 "cells": [
  {
   "cell_type": "code",
   "execution_count": 0,
   "metadata": {
    "application/vnd.databricks.v1+cell": {
     "cellMetadata": {
      "byteLimit": 2048000,
      "rowLimit": 10000
     },
     "inputWidgets": {},
     "nuid": "cdf5c303-96db-4c96-90dd-9f32faaab441",
     "showTitle": false,
     "tableResultSettingsMap": {},
     "title": ""
    }
   },
   "outputs": [],
   "source": [
    "from pyspark.sql import SparkSession\n",
    "from pyspark.sql.functions import *\n",
    "from pyspark.ml.feature import StringIndexer, OneHotEncoder, VectorAssembler\n",
    "from pyspark.ml.regression import RandomForestRegressor\n",
    "from pyspark.sql.functions import to_timestamp, concat_ws, col\n",
    "from pyspark.ml import Pipeline"
   ]
  },
  {
   "cell_type": "markdown",
   "metadata": {
    "application/vnd.databricks.v1+cell": {
     "cellMetadata": {
      "byteLimit": 2048000,
      "rowLimit": 10000
     },
     "inputWidgets": {},
     "nuid": "151d784c-f401-4e2e-a39e-e2c3e9e0bfc1",
     "showTitle": false,
     "tableResultSettingsMap": {},
     "title": ""
    }
   },
   "source": [
    "# Data pre-processing"
   ]
  },
  {
   "cell_type": "markdown",
   "metadata": {
    "application/vnd.databricks.v1+cell": {
     "cellMetadata": {
      "byteLimit": 2048000,
      "rowLimit": 10000
     },
     "inputWidgets": {},
     "nuid": "0196b5b5-2397-47b3-a8cc-d1ed5b133c42",
     "showTitle": false,
     "tableResultSettingsMap": {},
     "title": ""
    }
   },
   "source": [
    "## Traffic data"
   ]
  },
  {
   "cell_type": "code",
   "execution_count": 0,
   "metadata": {
    "application/vnd.databricks.v1+cell": {
     "cellMetadata": {
      "byteLimit": 2048000,
      "rowLimit": 10000
     },
     "inputWidgets": {},
     "nuid": "47690ee8-62d4-46d0-9abc-1e703f0a06bf",
     "showTitle": false,
     "tableResultSettingsMap": {},
     "title": ""
    }
   },
   "outputs": [],
   "source": [
    "sam_traffic_data = spark.sql(\"SELECT * FROM workspace.default.samyuktha_trafficdata\")"
   ]
  },
  {
   "cell_type": "code",
   "execution_count": 0,
   "metadata": {
    "application/vnd.databricks.v1+cell": {
     "cellMetadata": {
      "byteLimit": 2048000,
      "rowLimit": 10000
     },
     "inputWidgets": {},
     "nuid": "74266842-b6e3-4df3-8052-b720fef91920",
     "showTitle": false,
     "tableResultSettingsMap": {},
     "title": ""
    }
   },
   "outputs": [],
   "source": [
    "display(sam_traffic_data)"
   ]
  },
  {
   "cell_type": "code",
   "execution_count": 0,
   "metadata": {
    "application/vnd.databricks.v1+cell": {
     "cellMetadata": {
      "byteLimit": 2048000,
      "rowLimit": 10000
     },
     "inputWidgets": {},
     "nuid": "76fe1ca8-3c66-488e-a2ce-60bfab5540e2",
     "showTitle": false,
     "tableResultSettingsMap": {},
     "title": ""
    }
   },
   "outputs": [],
   "source": [
    "(sam_traffic_data.count(), len(sam_traffic_data.columns)) "
   ]
  },
  {
   "cell_type": "markdown",
   "metadata": {
    "application/vnd.databricks.v1+cell": {
     "cellMetadata": {
      "byteLimit": 2048000,
      "rowLimit": 10000
     },
     "inputWidgets": {},
     "nuid": "85ba802b-0256-4c68-9b53-fd37877a7234",
     "showTitle": false,
     "tableResultSettingsMap": {},
     "title": ""
    }
   },
   "source": [
    "## Weather data"
   ]
  },
  {
   "cell_type": "code",
   "execution_count": 0,
   "metadata": {
    "application/vnd.databricks.v1+cell": {
     "cellMetadata": {
      "byteLimit": 2048000,
      "rowLimit": 10000
     },
     "inputWidgets": {},
     "nuid": "93b4af78-a263-40cf-abc8-61c5ff5a4752",
     "showTitle": false,
     "tableResultSettingsMap": {},
     "title": ""
    }
   },
   "outputs": [],
   "source": [
    "sam_weather_data = spark.sql(\"SELECT * FROM workspace.default.samyuktha_weatherdata\")"
   ]
  },
  {
   "cell_type": "code",
   "execution_count": 0,
   "metadata": {
    "application/vnd.databricks.v1+cell": {
     "cellMetadata": {
      "byteLimit": 2048000,
      "rowLimit": 10000
     },
     "inputWidgets": {},
     "nuid": "5c8bc0fe-b9b6-484f-8774-81b760fff87e",
     "showTitle": false,
     "tableResultSettingsMap": {},
     "title": ""
    }
   },
   "outputs": [],
   "source": [
    "display(sam_weather_data)"
   ]
  },
  {
   "cell_type": "code",
   "execution_count": 0,
   "metadata": {
    "application/vnd.databricks.v1+cell": {
     "cellMetadata": {
      "byteLimit": 2048000,
      "rowLimit": 10000
     },
     "inputWidgets": {},
     "nuid": "7135cbf4-1c27-4984-a849-117995712686",
     "showTitle": false,
     "tableResultSettingsMap": {},
     "title": ""
    }
   },
   "outputs": [],
   "source": [
    "(sam_weather_data.count(), len(sam_weather_data.columns)) "
   ]
  },
  {
   "cell_type": "code",
   "execution_count": 0,
   "metadata": {
    "application/vnd.databricks.v1+cell": {
     "cellMetadata": {
      "byteLimit": 2048000,
      "rowLimit": 10000
     },
     "inputWidgets": {},
     "nuid": "53f58c94-5114-4d33-9610-e7b279999f9a",
     "showTitle": false,
     "tableResultSettingsMap": {},
     "title": ""
    }
   },
   "outputs": [],
   "source": [
    "sam_traffic_data.select(\"destination\").distinct().show()"
   ]
  },
  {
   "cell_type": "code",
   "execution_count": 0,
   "metadata": {
    "application/vnd.databricks.v1+cell": {
     "cellMetadata": {
      "byteLimit": 2048000,
      "rowLimit": 10000
     },
     "inputWidgets": {},
     "nuid": "5f07f85d-7305-4101-b4fe-e0cb2c309b3c",
     "showTitle": false,
     "tableResultSettingsMap": {},
     "title": ""
    }
   },
   "outputs": [],
   "source": [
    "sam_traffic_data.select(\"origin\").distinct().show()"
   ]
  },
  {
   "cell_type": "code",
   "execution_count": 0,
   "metadata": {
    "application/vnd.databricks.v1+cell": {
     "cellMetadata": {
      "byteLimit": 2048000,
      "rowLimit": 10000
     },
     "inputWidgets": {},
     "nuid": "6c2aac20-13e4-4d22-9f45-43251707b410",
     "showTitle": false,
     "tableResultSettingsMap": {},
     "title": ""
    }
   },
   "outputs": [],
   "source": [
    "sam_weather_data.select('location').distinct().show()"
   ]
  },
  {
   "cell_type": "code",
   "execution_count": 0,
   "metadata": {
    "application/vnd.databricks.v1+cell": {
     "cellMetadata": {
      "byteLimit": 2048000,
      "rowLimit": 10000
     },
     "inputWidgets": {},
     "nuid": "24c85f48-cf03-4cb3-bdba-7a336af63ee6",
     "showTitle": false,
     "tableResultSettingsMap": {},
     "title": ""
    }
   },
   "outputs": [],
   "source": [
    "from pyspark.sql.functions import concat, lit\n",
    "\n",
    "sam_weather_data = sam_weather_data.withColumn(\n",
    "    'location',\n",
    "    concat(sam_weather_data['location'], lit(', Hyderabad'))\n",
    ")\n",
    "# display(sam_weather_data)"
   ]
  },
  {
   "cell_type": "code",
   "execution_count": 0,
   "metadata": {
    "application/vnd.databricks.v1+cell": {
     "cellMetadata": {
      "byteLimit": 2048000,
      "rowLimit": 10000
     },
     "inputWidgets": {},
     "nuid": "74b2d817-532b-4c76-a2c1-f93aad774460",
     "showTitle": false,
     "tableResultSettingsMap": {},
     "title": ""
    }
   },
   "outputs": [],
   "source": [
    "display(sam_weather_data.select('location').distinct())"
   ]
  },
  {
   "cell_type": "markdown",
   "metadata": {
    "application/vnd.databricks.v1+cell": {
     "cellMetadata": {
      "byteLimit": 2048000,
      "rowLimit": 10000
     },
     "inputWidgets": {},
     "nuid": "51581141-6434-4280-8f83-dab837b95a2b",
     "showTitle": false,
     "tableResultSettingsMap": {},
     "title": ""
    }
   },
   "source": [
    "## Merge datasets"
   ]
  },
  {
   "cell_type": "code",
   "execution_count": 0,
   "metadata": {
    "application/vnd.databricks.v1+cell": {
     "cellMetadata": {
      "byteLimit": 2048000,
      "rowLimit": 10000
     },
     "inputWidgets": {},
     "nuid": "d7d635c1-2dbd-4645-b673-69fabc5d045d",
     "showTitle": false,
     "tableResultSettingsMap": {},
     "title": ""
    }
   },
   "outputs": [],
   "source": [
    "# Convert date + hour into datetime\n",
    "sam_traffic_data = sam_traffic_data.withColumn(\"datetime\", to_timestamp(concat_ws(\" \", col(\"date\"), col(\"hour\")), \"yyyy-MM-dd H\"))"
   ]
  },
  {
   "cell_type": "code",
   "execution_count": 0,
   "metadata": {
    "application/vnd.databricks.v1+cell": {
     "cellMetadata": {
      "byteLimit": 2048000,
      "rowLimit": 10000
     },
     "inputWidgets": {},
     "nuid": "8155a0e4-82d4-416b-b175-e66ef5f26931",
     "showTitle": false,
     "tableResultSettingsMap": {},
     "title": ""
    }
   },
   "outputs": [],
   "source": [
    "# Merge on datetime and origin\n",
    "merged_df = sam_traffic_data.join(\n",
    "    sam_weather_data,\n",
    "    (sam_traffic_data.origin == sam_weather_data.location) & (sam_traffic_data.datetime == sam_weather_data.datetime),\n",
    "    \"left\"\n",
    ").drop(sam_weather_data.location, sam_weather_data.datetime)"
   ]
  },
  {
   "cell_type": "code",
   "execution_count": 0,
   "metadata": {
    "application/vnd.databricks.v1+cell": {
     "cellMetadata": {
      "byteLimit": 2048000,
      "rowLimit": 10000
     },
     "inputWidgets": {},
     "nuid": "af726ba6-1b71-49c2-8754-3593f0538b97",
     "showTitle": false,
     "tableResultSettingsMap": {},
     "title": ""
    }
   },
   "outputs": [],
   "source": [
    "display(merged_df)"
   ]
  },
  {
   "cell_type": "code",
   "execution_count": 0,
   "metadata": {
    "application/vnd.databricks.v1+cell": {
     "cellMetadata": {
      "byteLimit": 2048000,
      "rowLimit": 10000
     },
     "inputWidgets": {},
     "nuid": "161e87e9-c430-412a-bcb0-b1d243947cd9",
     "showTitle": false,
     "tableResultSettingsMap": {},
     "title": ""
    }
   },
   "outputs": [],
   "source": [
    "merged_df = merged_df.withColumn(\"day_of_week\", dayofweek(\"datetime\"))"
   ]
  },
  {
   "cell_type": "code",
   "execution_count": 0,
   "metadata": {
    "application/vnd.databricks.v1+cell": {
     "cellMetadata": {
      "byteLimit": 2048000,
      "rowLimit": 10000
     },
     "inputWidgets": {},
     "nuid": "a647af8a-a9fd-4b69-8202-6ecfb1321d23",
     "showTitle": false,
     "tableResultSettingsMap": {},
     "title": ""
    }
   },
   "outputs": [],
   "source": [
    "display(merged_df)"
   ]
  },
  {
   "cell_type": "code",
   "execution_count": 0,
   "metadata": {
    "application/vnd.databricks.v1+cell": {
     "cellMetadata": {
      "byteLimit": 2048000,
      "rowLimit": 10000
     },
     "inputWidgets": {},
     "nuid": "0db14a80-335a-4508-9ec6-2a75dd323e60",
     "showTitle": false,
     "tableResultSettingsMap": {},
     "title": ""
    }
   },
   "outputs": [],
   "source": [
    "%python\n",
    "from pyspark.ml.feature import StringIndexer\n",
    "\n",
    "origin_indexer = StringIndexer(     \n",
    "    inputCol=\"origin\",\n",
    "    outputCol=\"origin_index\",\n",
    "    handleInvalid=\"keep\"\n",
    ")"
   ]
  },
  {
   "cell_type": "code",
   "execution_count": 0,
   "metadata": {
    "application/vnd.databricks.v1+cell": {
     "cellMetadata": {
      "byteLimit": 2048000,
      "rowLimit": 10000
     },
     "inputWidgets": {},
     "nuid": "0a32a852-3d2c-456a-a1dc-4a385db1a46b",
     "showTitle": false,
     "tableResultSettingsMap": {},
     "title": ""
    }
   },
   "outputs": [],
   "source": [
    "# Categorical encodings\n",
    "origin_indexer = StringIndexer(inputCol=\"origin\", outputCol=\"origin_index\", handleInvalid=\"keep\")\n",
    "dest_indexer = StringIndexer(inputCol=\"destination\", outputCol=\"destination_index\", handleInvalid=\"keep\")\n",
    "weather_indexer = StringIndexer(inputCol=\"condition\", outputCol=\"condition_index\", handleInvalid=\"keep\")"
   ]
  },
  {
   "cell_type": "code",
   "execution_count": 0,
   "metadata": {
    "application/vnd.databricks.v1+cell": {
     "cellMetadata": {},
     "inputWidgets": {},
     "nuid": "577c67ae-c9f2-4fa5-baaa-a1a60164227f",
     "showTitle": false,
     "tableResultSettingsMap": {},
     "title": ""
    }
   },
   "outputs": [],
   "source": [
    "origin_encoder = OneHotEncoder(inputCol=\"origin_index\", outputCol=\"origin_vec\")\n",
    "dest_encoder = OneHotEncoder(inputCol=\"destination_index\", outputCol=\"dest_vec\")\n",
    "weather_encoder = OneHotEncoder(inputCol=\"condition_index\", outputCol=\"condition_vec\")"
   ]
  },
  {
   "cell_type": "code",
   "execution_count": 0,
   "metadata": {
    "application/vnd.databricks.v1+cell": {
     "cellMetadata": {
      "byteLimit": 2048000,
      "rowLimit": 10000
     },
     "inputWidgets": {},
     "nuid": "a81774f7-09f3-4b0b-80da-900ec0436f16",
     "showTitle": false,
     "tableResultSettingsMap": {},
     "title": ""
    }
   },
   "outputs": [],
   "source": [
    "# Categorical encodings\n",
    "origin_indexer = StringIndexer(inputCol=\"origin\", outputCol=\"origin_index\", handleInvalid=\"keep\")\n",
    "dest_indexer = StringIndexer(inputCol=\"destination\", outputCol=\"destination_index\", handleInvalid=\"keep\")\n",
    "weather_indexer = StringIndexer(inputCol=\"condition\", outputCol=\"condition_index\", handleInvalid=\"keep\")"
   ]
  },
  {
   "cell_type": "code",
   "execution_count": 0,
   "metadata": {
    "application/vnd.databricks.v1+cell": {
     "cellMetadata": {
      "byteLimit": 2048000,
      "rowLimit": 10000
     },
     "inputWidgets": {},
     "nuid": "80be4ade-e2ac-45d0-ac37-23f46078f48d",
     "showTitle": false,
     "tableResultSettingsMap": {},
     "title": ""
    }
   },
   "outputs": [],
   "source": [
    "from pyspark.sql.functions import monotonically_increasing_id\n",
    "\n",
    "# Generate index for 'origin'\n",
    "origin_labels = sam_traffic_data.select(\"origin\").distinct().withColumn(\"origin_index\", monotonically_increasing_id())\n",
    "\n",
    "# Generate index for 'destination'\n",
    "dest_labels = sam_traffic_data.select(\"destination\").distinct().withColumn(\"destination_index\", monotonically_increasing_id())\n",
    "\n",
    "# Join indices back\n",
    "sam_traffic_data = sam_traffic_data.join(origin_labels, on=\"origin\", how=\"left\")\n",
    "sam_traffic_data = sam_traffic_data.join(dest_labels, on=\"destination\", how=\"left\")\n"
   ]
  },
  {
   "cell_type": "code",
   "execution_count": 0,
   "metadata": {
    "application/vnd.databricks.v1+cell": {
     "cellMetadata": {
      "byteLimit": 2048000,
      "rowLimit": 10000
     },
     "inputWidgets": {},
     "nuid": "d7ccbf45-c614-47cb-a7ba-3fbe4c11cefc",
     "showTitle": false,
     "tableResultSettingsMap": {},
     "title": ""
    }
   },
   "outputs": [],
   "source": [
    "origin_encoder = OneHotEncoder(inputCol=\"origin_index\", outputCol=\"origin_vec\")\n",
    "dest_encoder = OneHotEncoder(inputCol=\"destination_index\", outputCol=\"destination_vec\")"
   ]
  },
  {
   "cell_type": "code",
   "execution_count": 0,
   "metadata": {
    "application/vnd.databricks.v1+cell": {
     "cellMetadata": {
      "byteLimit": 2048000,
      "rowLimit": 10000
     },
     "inputWidgets": {},
     "nuid": "844a8298-046f-4d90-9df9-bd43593f659d",
     "showTitle": false,
     "tableResultSettingsMap": {},
     "title": ""
    }
   },
   "outputs": [],
   "source": [
    "# Assemble features\n",
    "feature_cols = [\n",
    "    \"hour_of_day\", \"day_of_week\", \"is_weekend\",\n",
    "    \"distance_value\", \"temperature_C\", \"precipitation_mm\",\n",
    "    \"cloudcover_percent\", \"windspeed_kmph\",\n",
    "    \"origin_vec\", \"destination_vec\"\n",
    "]\n"
   ]
  },
  {
   "cell_type": "code",
   "execution_count": 0,
   "metadata": {
    "application/vnd.databricks.v1+cell": {
     "cellMetadata": {
      "byteLimit": 2048000,
      "rowLimit": 10000
     },
     "inputWidgets": {},
     "nuid": "4bd242c4-db0c-452e-ada4-7784f1d3a0f2",
     "showTitle": false,
     "tableResultSettingsMap": {},
     "title": ""
    }
   },
   "outputs": [],
   "source": [
    "assembler = VectorAssembler(\n",
    "    inputCols=[\n",
    "        \"hour_of_day\", \"day_of_week\", \"is_weekend\",\n",
    "        \"distance_value\", \"temperature_C\", \"precipitation_mm\",\n",
    "        \"cloudcover_percent\", \"windspeed_kmph\",\n",
    "        \"origin_vec\", \"destination_vec\"\n",
    "    ],\n",
    "    outputCol=\"features\"\n",
    ")"
   ]
  },
  {
   "cell_type": "code",
   "execution_count": 0,
   "metadata": {
    "application/vnd.databricks.v1+cell": {
     "cellMetadata": {
      "byteLimit": 2048000,
      "rowLimit": 10000
     },
     "inputWidgets": {},
     "nuid": "b91a3ba8-9197-4a3f-96f0-117a3b0e970c",
     "showTitle": false,
     "tableResultSettingsMap": {},
     "title": ""
    }
   },
   "outputs": [],
   "source": [
    "\n",
    "# Define model\n",
    "rf = RandomForestRegressor(featuresCol=\"features\", labelCol=\"duration_in_traffic_value\", numTrees=100)\n",
    "\n",
    "# Build Pipeline\n",
    "pipeline = Pipeline(stages=[origin_indexer, dest_indexer, origin_encoder, dest_encoder, assembler, rf])\n"
   ]
  },
  {
   "cell_type": "code",
   "execution_count": 0,
   "metadata": {
    "application/vnd.databricks.v1+cell": {
     "cellMetadata": {
      "byteLimit": 2048000,
      "rowLimit": 10000
     },
     "inputWidgets": {},
     "nuid": "0ba58736-e0e6-4f70-858a-73de83e61c2e",
     "showTitle": false,
     "tableResultSettingsMap": {},
     "title": ""
    }
   },
   "outputs": [],
   "source": [
    "# Import necessary libraries\n",
    "from pyspark.sql.functions import col, hour, dayofweek, to_timestamp, concat_ws\n",
    "from pyspark.ml.feature import StringIndexer, OneHotEncoder, VectorAssembler\n",
    "from pyspark.ml.regression import RandomForestRegressor\n",
    "from pyspark.ml import Pipeline\n",
    "from pyspark.ml.evaluation import RegressionEvaluator\n",
    "\n",
    "\n",
    "# Convert date + hour to timestamp\n",
    "traffic_df = traffic_df.withColumn(\"datetime\", to_timestamp(concat_ws(\" \", col(\"date\"), col(\"hour\")), \"yyyy-MM-dd H\"))\n",
    "\n",
    "# Join weather data on origin and datetime (assume weather recorded hourly)\n",
    "joined_df = traffic_df.join(\n",
    "    weather_df,\n",
    "    (traffic_df.origin == weather_df.location) & (traffic_df.datetime == weather_df.datetime),\n",
    "    \"left\"\n",
    ").drop(weather_df.location)\n",
    "\n",
    "# Feature engineering: extract hour and day of week\n",
    "joined_df = joined_df.withColumn(\"hour_of_day\", hour(\"datetime\"))\n",
    "joined_df = joined_df.withColumn(\"day_of_week\", dayofweek(\"datetime\"))\n",
    "\n",
    "# Categorical encodings\n",
    "origin_indexer = StringIndexer(inputCol=\"origin\", outputCol=\"origin_index\", handleInvalid=\"keep\")\n",
    "dest_indexer = StringIndexer(inputCol=\"destination\", outputCol=\"destination_index\", handleInvalid=\"keep\")\n",
    "weather_indexer = StringIndexer(inputCol=\"condition\", outputCol=\"condition_index\", handleInvalid=\"keep\")\n",
    "\n",
    "origin_encoder = OneHotEncoder(inputCol=\"origin_index\", outputCol=\"origin_vec\")\n",
    "dest_encoder = OneHotEncoder(inputCol=\"destination_index\", outputCol=\"dest_vec\")\n",
    "weather_encoder = OneHotEncoder(inputCol=\"condition_index\", outputCol=\"condition_vec\")\n",
    "\n",
    "# Define feature columns\n",
    "features = [\n",
    "    \"distance_value\", \"hour_of_day\", \"day_of_week\", \"temperature\", \"humidity\",\n",
    "    \"origin_vec\", \"dest_vec\", \"condition_vec\"\n",
    "]\n",
    "\n",
    "assembler = VectorAssembler(inputCols=features, outputCol=\"features\")\n",
    "\n",
    "# Define regressor\n",
    "rf = RandomForestRegressor(featuresCol=\"features\", labelCol=\"duration_in_traffic_value\")\n",
    "\n",
    "# Pipeline\n",
    "pipeline = Pipeline(stages=[\n",
    "    origin_indexer, dest_indexer, weather_indexer,\n",
    "    origin_encoder, dest_encoder, weather_encoder,\n",
    "    assembler, rf\n",
    "])\n",
    "\n",
    "# Train-test split\n",
    "train_data, test_data = joined_df.randomSplit([0.8, 0.2], seed=42)\n",
    "\n",
    "# Train model\n",
    "model = pipeline.fit(train_data)\n",
    "\n",
    "# Evaluate\n",
    "predictions = model.transform(test_data)\n",
    "evaluator = RegressionEvaluator(\n",
    "    labelCol=\"duration_in_traffic_value\", predictionCol=\"prediction\", metricName=\"rmse\"\n",
    ")\n",
    "rmse = evaluator.evaluate(predictions)\n",
    "mae = evaluator.setMetricName(\"mae\").evaluate(predictions)\n",
    "\n",
    "print(f\"RMSE: {rmse:.2f}\")\n",
    "print(f\"MAE: {mae:.2f}\")\n"
   ]
  },
  {
   "cell_type": "markdown",
   "metadata": {
    "application/vnd.databricks.v1+cell": {
     "cellMetadata": {},
     "inputWidgets": {},
     "nuid": "ea0bdd86-1dfb-4992-aa10-1001f8b48c65",
     "showTitle": false,
     "tableResultSettingsMap": {},
     "title": ""
    }
   },
   "source": [
    "PyTorch"
   ]
  },
  {
   "cell_type": "code",
   "execution_count": 0,
   "metadata": {
    "application/vnd.databricks.v1+cell": {
     "cellMetadata": {
      "byteLimit": 2048000,
      "rowLimit": 10000
     },
     "inputWidgets": {},
     "nuid": "db0cf861-fdb3-4f4e-9155-5d62f38a4820",
     "showTitle": false,
     "tableResultSettingsMap": {},
     "title": ""
    }
   },
   "outputs": [],
   "source": [
    "import pandas as pd\n",
    "import numpy as np\n",
    "from sklearn.model_selection import train_test_split\n",
    "from sklearn.preprocessing import LabelEncoder\n",
    "from sklearn.ensemble import RandomForestRegressor\n",
    "from sklearn.metrics import mean_absolute_error"
   ]
  },
  {
   "cell_type": "code",
   "execution_count": 0,
   "metadata": {
    "application/vnd.databricks.v1+cell": {
     "cellMetadata": {
      "byteLimit": 2048000,
      "implicitDf": true,
      "rowLimit": 10000
     },
     "inputWidgets": {},
     "nuid": "fe5230bb-78e7-43c5-8e54-e028d3c96a2b",
     "showTitle": false,
     "tableResultSettingsMap": {},
     "title": ""
    }
   },
   "outputs": [],
   "source": [
    "%sql\n",
    "SELECT * FROM workspace.default.traffic_30 LIMIT 10"
   ]
  },
  {
   "cell_type": "code",
   "execution_count": 0,
   "metadata": {
    "application/vnd.databricks.v1+cell": {
     "cellMetadata": {},
     "inputWidgets": {},
     "nuid": "5c19a7da-3654-4f0b-b02f-3ee6817cf408",
     "showTitle": false,
     "tableResultSettingsMap": {},
     "title": ""
    }
   },
   "outputs": [],
   "source": []
  }
 ],
 "metadata": {
  "application/vnd.databricks.v1+notebook": {
   "computePreferences": null,
   "dashboards": [],
   "environmentMetadata": {
    "base_environment": "",
    "environment_version": "2"
   },
   "inputWidgetPreferences": null,
   "language": "python",
   "notebookMetadata": {
    "mostRecentlyExecutedCommandWithImplicitDF": {
     "commandId": 5619579234895058,
     "dataframes": [
      "_sqldf"
     ]
    },
    "pythonIndentUnit": 4
   },
   "notebookName": "old ML model",
   "widgets": {}
  },
  "language_info": {
   "name": "python"
  }
 },
 "nbformat": 4,
 "nbformat_minor": 0
}
