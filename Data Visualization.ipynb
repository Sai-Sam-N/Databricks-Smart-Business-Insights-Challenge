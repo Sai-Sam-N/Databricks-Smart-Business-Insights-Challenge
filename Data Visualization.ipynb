{
 "cells": [
  {
   "cell_type": "code",
   "execution_count": 0,
   "metadata": {
    "application/vnd.databricks.v1+cell": {
     "cellMetadata": {
      "byteLimit": 2048000,
      "rowLimit": 10000
     },
     "inputWidgets": {},
     "nuid": "0b98e1c2-1099-4921-9dfe-462894190f59",
     "showTitle": false,
     "tableResultSettingsMap": {},
     "title": ""
    }
   },
   "outputs": [],
   "source": [
    "import pandas as pd\n",
    "import matplotlib.pyplot as plt\n",
    "import seaborn as sns\n",
    "\n",
    "# Load dataset\n",
    "df = spark.sql(\"SELECT * FROM workspace.default.traffic_30\")\n",
    "df.head()"
   ]
  },
  {
   "cell_type": "code",
   "execution_count": 0,
   "metadata": {
    "application/vnd.databricks.v1+cell": {
     "cellMetadata": {
      "byteLimit": 2048000,
      "rowLimit": 10000
     },
     "inputWidgets": {},
     "nuid": "88b475cb-2030-43d6-a8f5-8e6f95957015",
     "showTitle": false,
     "tableResultSettingsMap": {},
     "title": ""
    }
   },
   "outputs": [],
   "source": [
    "from pyspark.sql import SparkSession\n",
    "from pyspark.sql.functions import col, expr, avg\n",
    "import matplotlib.pyplot as plt\n",
    "import seaborn as sns\n",
    "\n",
    "# Create Spark session\n",
    "spark = SparkSession.builder.appName(\"TrafficAnalysis\").getOrCreate()\n",
    "\n",
    "# Load dataset\n",
    "df = spark.sql(\"SELECT * FROM workspace.default.traffic_30\")\n",
    "\n",
    "# Calculate delay percentage using Spark expressions\n",
    "df = df.withColumn(\"delay_percentage\", ((col(\"duration_in_traffic_value\") - col(\"duration_value\")) / col(\"duration_value\")) * 100)\n",
    "\n",
    "# Aggregate delay percentage by origin\n",
    "avg_delay = df.groupBy(\"origin\").agg(avg(\"delay_percentage\").alias(\"avg_delay_percentage\")).toPandas()\n",
    "\n",
    "# Plot\n",
    "plt.figure(figsize=(10, 6))\n",
    "sns.barplot(x='origin', y='avg_delay_percentage', data=avg_delay, palette='coolwarm')\n",
    "plt.title(\"Overall Delay Risk Bar Chart (All Days & Times)\")\n",
    "plt.xlabel(\"Route (Origin)\")\n",
    "plt.ylabel(\"Average Delay Risk (%)\")\n",
    "plt.xticks(rotation=45)\n",
    "plt.show()\n"
   ]
  },
  {
   "cell_type": "code",
   "execution_count": 0,
   "metadata": {
    "application/vnd.databricks.v1+cell": {
     "cellMetadata": {
      "byteLimit": 2048000,
      "rowLimit": 10000
     },
     "inputWidgets": {},
     "nuid": "a0447ccf-d236-4510-b0a4-1f95b186a506",
     "showTitle": false,
     "tableResultSettingsMap": {},
     "title": ""
    }
   },
   "outputs": [],
   "source": [
    "# Select key routes\n",
    "routes = [\"Gachibowli, Hyderabad\", \"Madhapur, Hyderabad\"]\n",
    "df_selected = df.filter(col(\"origin\").isin(routes))\n",
    "\n",
    "# Aggregate average delay by time slot\n",
    "avg_route_delay = df_selected.groupBy(\"time\", \"origin\").agg(avg(\"duration_in_traffic_value\").alias(\"avg_duration\")).toPandas()\n",
    "\n",
    "# Plot\n",
    "plt.figure(figsize=(10, 6))\n",
    "sns.lineplot(x='time', y='avg_duration', hue='origin', data=avg_route_delay, marker='o')\n",
    "plt.title(\"Overall Route Comparison Line Chart (All Time Slots)\")\n",
    "plt.xlabel(\"Time Slot\")\n",
    "plt.ylabel(\"Avg Travel Time (seconds)\")\n",
    "plt.legend(title=\"Route\")\n",
    "plt.xticks(rotation=45)\n",
    "plt.show()\n"
   ]
  },
  {
   "cell_type": "code",
   "execution_count": 0,
   "metadata": {
    "application/vnd.databricks.v1+cell": {
     "cellMetadata": {
      "byteLimit": 2048000,
      "rowLimit": 10000
     },
     "inputWidgets": {},
     "nuid": "6a5047c6-de0e-4591-855e-33e200eb380a",
     "showTitle": false,
     "tableResultSettingsMap": {},
     "title": ""
    }
   },
   "outputs": [],
   "source": [
    "# Estimate CO₂ emissions\n",
    "df = df.withColumn(\"co2_emission\", col(\"duration_in_traffic_value\") * 0.5)\n",
    "\n",
    "# Aggregate average emissions and delay by origin\n",
    "avg_co2_delay = df.groupBy(\"origin\").agg(avg(\"duration_in_traffic_value\").alias(\"avg_duration\"), avg(\"co2_emission\").alias(\"avg_co2\")).toPandas()\n",
    "\n",
    "# Plot\n",
    "plt.figure(figsize=(10, 6))\n",
    "plt.scatter(avg_co2_delay['avg_duration'], avg_co2_delay['avg_co2'], s=avg_co2_delay['avg_co2'], alpha=0.6)\n",
    "plt.title(\"Overall CO₂ vs Delay Bubble Chart\")\n",
    "plt.xlabel(\"Avg Travel Time (seconds)\")\n",
    "plt.ylabel(\"Avg CO₂ Emission (grams)\")\n",
    "plt.grid(True)\n",
    "plt.show()\n"
   ]
  },
  {
   "cell_type": "code",
   "execution_count": 0,
   "metadata": {
    "application/vnd.databricks.v1+cell": {
     "cellMetadata": {
      "byteLimit": 2048000,
      "rowLimit": 10000
     },
     "inputWidgets": {},
     "nuid": "8017ce85-0ac7-4ab6-b51b-4ced462e69f8",
     "showTitle": false,
     "tableResultSettingsMap": {},
     "title": ""
    }
   },
   "outputs": [],
   "source": [
    "# Assume delays above 2400 sec indicate rain impact\n",
    "df = df.withColumn(\"rain_intensity\", expr(\"CASE WHEN duration_in_traffic_value > 2400 THEN 1 ELSE 0 END\"))\n",
    "\n",
    "# Aggregate average duration per time slot\n",
    "avg_rain_impact = df.groupBy(\"time\").agg(avg(\"duration_in_traffic_value\").alias(\"avg_duration\")).toPandas()\n",
    "\n",
    "# Plot\n",
    "plt.figure(figsize=(10, 6))\n",
    "sns.lineplot(x='time', y='avg_duration', data=avg_rain_impact, marker='o')\n",
    "plt.fill_between(avg_rain_impact['time'], avg_rain_impact['avg_duration'], alpha=0.3, color='blue', where=df.toPandas()[\"rain_intensity\"] == 1)\n",
    "plt.title(\"Overall Rain Impact on Traffic\")\n",
    "plt.xlabel(\"Time Slot\")\n",
    "plt.ylabel(\"Avg Travel Time (seconds)\")\n",
    "plt.show()\n"
   ]
  },
  {
   "cell_type": "code",
   "execution_count": 0,
   "metadata": {
    "application/vnd.databricks.v1+cell": {
     "cellMetadata": {
      "byteLimit": 2048000,
      "rowLimit": 10000
     },
     "inputWidgets": {},
     "nuid": "148bbb15-1361-4a5e-8720-c0219dec50a4",
     "showTitle": false,
     "tableResultSettingsMap": {},
     "title": ""
    }
   },
   "outputs": [],
   "source": [
    "# Assume delays above 2400 sec indicate rain impact\n",
    "df = df.withColumn(\"rain_intensity\", expr(\"CASE WHEN duration_in_traffic_value > 2400 THEN 1 ELSE 0 END\"))\n",
    "\n",
    "# Aggregate average duration per time slot\n",
    "avg_rain_impact = df.groupBy(\"time\").agg(avg(\"duration_in_traffic_value\").alias(\"avg_duration\")).toPandas()\n",
    "\n",
    "# Plot\n",
    "plt.figure(figsize=(10, 6))\n",
    "sns.lineplot(x='time', y='avg_duration', data=avg_rain_impact, marker='o')\n",
    "plt.fill_between(avg_rain_impact['time'], avg_rain_impact['avg_duration'], alpha=0.3, color='blue', where=df.toPandas()[\"rain_intensity\"] == 1)\n",
    "plt.title(\"Overall Rain Impact on Traffic\")\n",
    "plt.xlabel(\"Time Slot\")\n",
    "plt.ylabel(\"Avg Travel Time (seconds)\")\n",
    "plt.show()\n"
   ]
  },
  {
   "cell_type": "code",
   "execution_count": 0,
   "metadata": {
    "application/vnd.databricks.v1+cell": {
     "cellMetadata": {
      "byteLimit": 2048000,
      "rowLimit": 10000
     },
     "inputWidgets": {},
     "nuid": "8158f908-4d7e-4d74-a2f3-cc9187ef0e86",
     "showTitle": false,
     "tableResultSettingsMap": {},
     "title": ""
    }
   },
   "outputs": [],
   "source": [
    "# Aggregate average travel time per time slot\n",
    "avg_departure_delay = df.groupBy(\"time\").agg(avg(\"duration_in_traffic_value\").alias(\"avg_duration\")).toPandas()\n",
    "\n",
    "# Plot\n",
    "plt.figure(figsize=(10, 10))\n",
    "sns.barplot(x='time', y='avg_duration', data=avg_departure_delay, palette='coolwarm')\n",
    "plt.axvline(x=\"16:30\", color='black', linestyle='--', label=\"Suggested Early Departure\")\n",
    "plt.title(\"Best Departure Time Analysis (Overall)\")\n",
    "plt.xlabel(\"Time Slot\")\n",
    "plt.ylabel(\"Avg Travel Time (seconds)\")\n",
    "plt.legend()\n",
    "plt.show()\n"
   ]
  },
  {
   "cell_type": "code",
   "execution_count": 0,
   "metadata": {
    "application/vnd.databricks.v1+cell": {
     "cellMetadata": {
      "byteLimit": 2048000,
      "rowLimit": 10000
     },
     "inputWidgets": {},
     "nuid": "6587595f-6f01-4689-ba8e-dee86ca2bc2d",
     "showTitle": false,
     "tableResultSettingsMap": {},
     "title": ""
    }
   },
   "outputs": [],
   "source": [
    "# Define activities and estimated durations\n",
    "activities = [\"Morning Exercise\", \"Brunch\", \"Shopping\", \"Workshop\", \"Dinner\"]\n",
    "start_times = [7.5, 10.5, 13.5, 16.5, 19.5]  # Approx start times\n",
    "\n",
    "# Plot\n",
    "plt.figure(figsize=(10, 6))\n",
    "plt.barh(activities, [2, 3, 2, 3, 2], left=start_times, color='green')\n",
    "plt.title(\"Overall Multi-Hop Travel Planner\")\n",
    "plt.xlabel(\"Time of Day\")\n",
    "plt.ylabel(\"Activity\")\n",
    "plt.grid(True)\n",
    "plt.show()\n"
   ]
  },
  {
   "cell_type": "code",
   "execution_count": 0,
   "metadata": {
    "application/vnd.databricks.v1+cell": {
     "cellMetadata": {
      "byteLimit": 2048000,
      "rowLimit": 10000
     },
     "inputWidgets": {},
     "nuid": "c10cdffd-fb4b-4943-a4f7-0b01428c0210",
     "showTitle": false,
     "tableResultSettingsMap": {},
     "title": ""
    }
   },
   "outputs": [],
   "source": [
    "import numpy as np\n",
    "\n",
    "# Prepare weekly heatmap data (avg delay per time slot & day)\n",
    "df_weekly = df.groupBy(\"date\", \"time\").agg(avg(\"duration_in_traffic_value\").alias(\"avg_delay\")).toPandas().pivot(\"date\", \"time\", \"avg_delay\")\n",
    "\n",
    "# Plot\n",
    "plt.figure(figsize=(12, 6))\n",
    "sns.heatmap(df_weekly, cmap=\"coolwarm\", annot=False)\n",
    "plt.title(\"Weekly Delay Heatmap (All Routes)\")\n",
    "plt.xlabel(\"Time of Day\")\n",
    "plt.ylabel(\"Day of Week\")\n",
    "plt.show()\n"
   ]
  },
  {
   "cell_type": "code",
   "execution_count": 0,
   "metadata": {
    "application/vnd.databricks.v1+cell": {
     "cellMetadata": {
      "byteLimit": 2048000,
      "rowLimit": 10000
     },
     "inputWidgets": {},
     "nuid": "daf61e1b-2e33-4d04-926a-709f7d69fe54",
     "showTitle": false,
     "tableResultSettingsMap": {},
     "title": ""
    }
   },
   "outputs": [],
   "source": [
    "# Aggregate average delay by route\n",
    "avg_delay = df.groupBy(\"origin\").agg(avg(\"duration_in_traffic_value\").alias(\"avg_duration\")).toPandas()\n",
    "\n",
    "# Plot simple bar chart\n",
    "plt.figure(figsize=(8, 5))\n",
    "sns.barplot(y='origin', x='avg_duration', data=avg_delay, palette='Blues_r')  # Horizontal bars for easy reading\n",
    "plt.title(\"Average Delay Per Route\")\n",
    "plt.xlabel(\"Avg Travel Time (seconds)\")\n",
    "plt.ylabel(\"Route\")\n",
    "plt.show()\n"
   ]
  },
  {
   "cell_type": "code",
   "execution_count": 0,
   "metadata": {
    "application/vnd.databricks.v1+cell": {
     "cellMetadata": {
      "byteLimit": 2048000,
      "rowLimit": 10000
     },
     "inputWidgets": {},
     "nuid": "b0fc87aa-24a6-4df9-9cb3-d535c9af2bd4",
     "showTitle": false,
     "tableResultSettingsMap": {},
     "title": ""
    }
   },
   "outputs": [],
   "source": [
    "# Estimate CO₂ emissions\n",
    "df = df.withColumn(\"co2_emission\", col(\"duration_in_traffic_value\") * 0.5)\n",
    "\n",
    "# Aggregate average CO₂ by route\n",
    "avg_co2 = df.groupBy(\"origin\").agg(avg(\"co2_emission\").alias(\"avg_co2\")).toPandas()\n",
    "\n",
    "# Plot simple bar chart\n",
    "plt.figure(figsize=(8, 5))\n",
    "sns.barplot(x='origin', y='avg_co2', data=avg_co2, palette='Reds_r')  # Reds to indicate emissions\n",
    "plt.title(\"Avg CO₂ Emissions Per Route\")\n",
    "plt.ylabel(\"CO₂ Emission (grams)\")\n",
    "plt.xticks(rotation=45)\n",
    "plt.show()\n"
   ]
  },
  {
   "cell_type": "code",
   "execution_count": 0,
   "metadata": {
    "application/vnd.databricks.v1+cell": {
     "cellMetadata": {
      "byteLimit": 2048000,
      "rowLimit": 10000
     },
     "inputWidgets": {},
     "nuid": "789e921e-6420-47af-882e-c5e1598d307e",
     "showTitle": false,
     "tableResultSettingsMap": {},
     "title": ""
    }
   },
   "outputs": [],
   "source": [
    "df = df.withColumn(\"rainy_condition\", expr(\"CASE WHEN duration_in_traffic_value > 2400 THEN 'Rainy' ELSE 'Normal' END\"))\n",
    "\n",
    "# Convert to Pandas\n",
    "df_pandas = df.select(\"rainy_condition\", \"duration_in_traffic_value\").toPandas()\n",
    "\n",
    "# Plot\n",
    "plt.figure(figsize=(7, 5))\n",
    "sns.boxplot(x='rainy_condition', y='duration_in_traffic_value', data=df_pandas, palette='coolwarm')\n",
    "plt.title(\"Rain vs Normal Travel Delays\")\n",
    "plt.xlabel(\"Weather Condition\")\n",
    "plt.ylabel(\"Travel Time (seconds)\")\n",
    "plt.show()\n"
   ]
  },
  {
   "cell_type": "code",
   "execution_count": 0,
   "metadata": {
    "application/vnd.databricks.v1+cell": {
     "cellMetadata": {
      "byteLimit": 2048000,
      "rowLimit": 10000
     },
     "inputWidgets": {},
     "nuid": "a248a63d-8794-48c3-8784-ce45123b7964",
     "showTitle": false,
     "tableResultSettingsMap": {},
     "title": ""
    }
   },
   "outputs": [],
   "source": [
    "avg_departure_delay = df.groupBy(\"time\").agg(avg(\"duration_in_traffic_value\").alias(\"avg_duration\")).toPandas()\n",
    "\n",
    "# Plot simple scatter plot\n",
    "plt.figure(figsize=(8, 5))\n",
    "sns.scatterplot(x='time', y='avg_duration', data=avg_departure_delay, color=\"blue\")\n",
    "plt.axvline(x=\"16:30\", color='black', linestyle='--', label=\"Best Departure\")\n",
    "plt.title(\"Best Departure Time (Lower is Better)\")\n",
    "plt.xlabel(\"Time Slot\")\n",
    "plt.ylabel(\"Avg Travel Time (seconds)\")\n",
    "plt.legend()\n",
    "plt.show()\n"
   ]
  },
  {
   "cell_type": "code",
   "execution_count": 0,
   "metadata": {
    "application/vnd.databricks.v1+cell": {
     "cellMetadata": {
      "byteLimit": 2048000,
      "rowLimit": 10000
     },
     "inputWidgets": {},
     "nuid": "d1b5a312-8791-4bb9-bac5-a86462ca4b60",
     "showTitle": false,
     "tableResultSettingsMap": {},
     "title": ""
    }
   },
   "outputs": [],
   "source": [
    "df_weekly = df.groupBy(\"date\", \"time\").agg(avg(\"duration_in_traffic_value\").alias(\"avg_delay\")).toPandas().pivot(\"date\", \"time\", \"avg_delay\")\n",
    "\n",
    "plt.figure(figsize=(10, 5))\n",
    "sns.heatmap(df_weekly, cmap=\"Blues\", annot=False)\n",
    "plt.title(\"Weekly Delay Heatmap\")\n",
    "plt.xlabel(\"Time of Day\")\n",
    "plt.ylabel(\"Day of Week\")\n",
    "plt.show()\n"
   ]
  },
  {
   "cell_type": "code",
   "execution_count": 0,
   "metadata": {
    "application/vnd.databricks.v1+cell": {
     "cellMetadata": {
      "byteLimit": 2048000,
      "rowLimit": 10000
     },
     "inputWidgets": {},
     "nuid": "2f0c18b2-d4b1-4795-8325-198f795bb3ae",
     "showTitle": false,
     "tableResultSettingsMap": {},
     "title": ""
    }
   },
   "outputs": [],
   "source": [
    "# Travel Time Distribution Histogram\n",
    "plt.figure(figsize=(8, 5))\n",
    "sns.histplot(df.toPandas()[\"duration_in_traffic_value\"], bins=20, kde=True, color=\"blue\")\n",
    "plt.title(\"Distribution of Travel Times\")\n",
    "plt.xlabel(\"Travel Time (seconds)\")\n",
    "plt.ylabel(\"Frequency\")\n",
    "plt.show()\n"
   ]
  },
  {
   "cell_type": "code",
   "execution_count": 0,
   "metadata": {
    "application/vnd.databricks.v1+cell": {
     "cellMetadata": {
      "byteLimit": 2048000,
      "rowLimit": 10000
     },
     "inputWidgets": {},
     "nuid": "0e83a148-9bd1-4382-a628-c6c87d4c7c06",
     "showTitle": false,
     "tableResultSettingsMap": {},
     "title": ""
    }
   },
   "outputs": [],
   "source": [
    "# Traffic Delay Box Plot per Route\n",
    "plt.figure(figsize=(8, 5))\n",
    "sns.boxplot(x='origin', y='duration_in_traffic_value', data=df.toPandas(), palette=\"coolwarm\")\n",
    "plt.title(\"Traffic Delay Box Plot per Route\")\n",
    "plt.xlabel(\"Route\")\n",
    "plt.ylabel(\"Travel Time (seconds)\")\n",
    "plt.xticks(rotation=45)\n",
    "plt.show()\n"
   ]
  },
  {
   "cell_type": "code",
   "execution_count": 0,
   "metadata": {
    "application/vnd.databricks.v1+cell": {
     "cellMetadata": {
      "byteLimit": 2048000,
      "rowLimit": 10000
     },
     "inputWidgets": {},
     "nuid": "d8c0ddad-c070-40cd-ae77-4d7043589489",
     "showTitle": false,
     "tableResultSettingsMap": {},
     "title": ""
    }
   },
   "outputs": [],
   "source": [
    "# Travel Speed Bar Chart\n",
    "df_speed = df.withColumn(\"speed\", col(\"distance_value\") / col(\"duration_in_traffic_value\"))\n",
    "avg_speed = df_speed.groupBy(\"origin\").agg(avg(\"speed\").alias(\"avg_speed\")).toPandas()\n",
    "\n",
    "plt.figure(figsize=(8, 5))\n",
    "sns.barplot(x='origin', y='avg_speed', data=avg_speed, palette=\"Greens_r\")\n",
    "plt.title(\"Avg Travel Speed Per Route\")\n",
    "plt.xlabel(\"Route\")\n",
    "plt.ylabel(\"Speed (m/s)\")\n",
    "plt.xticks(rotation=45)\n",
    "plt.show()\n"
   ]
  },
  {
   "cell_type": "code",
   "execution_count": 0,
   "metadata": {
    "application/vnd.databricks.v1+cell": {
     "cellMetadata": {
      "byteLimit": 2048000,
      "rowLimit": 10000
     },
     "inputWidgets": {},
     "nuid": "01021c82-eb5f-49de-9f32-ee3fc58fabbc",
     "showTitle": false,
     "tableResultSettingsMap": {},
     "title": ""
    }
   },
   "outputs": [],
   "source": [
    "# Day vs Night Travel Time Comparison\n",
    "df = df.withColumn(\"time_of_day\", expr(\"CASE WHEN time BETWEEN '06:00' AND '18:00' THEN 'Day' ELSE 'Night' END\"))\n",
    "df_day_night = df.groupBy(\"time_of_day\").agg(avg(\"duration_in_traffic_value\").alias(\"avg_duration\")).toPandas()\n",
    "\n",
    "plt.figure(figsize=(6, 4))\n",
    "sns.barplot(x='time_of_day', y='avg_duration', data=df_day_night, palette=\"Set2\")\n",
    "plt.title(\"Day vs Night Travel Time Comparison\")\n",
    "plt.ylabel(\"Avg Travel Time (seconds)\")\n",
    "plt.show()\n"
   ]
  },
  {
   "cell_type": "code",
   "execution_count": 0,
   "metadata": {
    "application/vnd.databricks.v1+cell": {
     "cellMetadata": {
      "byteLimit": 2048000,
      "rowLimit": 10000
     },
     "inputWidgets": {},
     "nuid": "78a72da2-3cee-46d8-8c4b-11f50d49afc9",
     "showTitle": false,
     "tableResultSettingsMap": {},
     "title": ""
    }
   },
   "outputs": [],
   "source": [
    "# Traffic Volume Pie Chart\n",
    "df_traffic = df.groupBy(\"origin\").count().toPandas()\n",
    "\n",
    "plt.figure(figsize=(7, 7))\n",
    "plt.pie(df_traffic[\"count\"], labels=df_traffic[\"origin\"], autopct=\"%1.1f%%\", colors=sns.color_palette(\"pastel\"))\n",
    "plt.title(\"Traffic Volume Across Routes\")\n",
    "plt.show()\n"
   ]
  },
  {
   "cell_type": "code",
   "execution_count": 0,
   "metadata": {
    "application/vnd.databricks.v1+cell": {
     "cellMetadata": {
      "byteLimit": 2048000,
      "rowLimit": 10000
     },
     "inputWidgets": {},
     "nuid": "7131b478-dd3f-4243-a5c3-ce55712e1f22",
     "showTitle": false,
     "tableResultSettingsMap": {},
     "title": ""
    }
   },
   "outputs": [],
   "source": [
    "# Travel Time vs Distance Scatter Plot\n",
    "plt.figure(figsize=(8, 5))\n",
    "sns.scatterplot(x=df.toPandas()[\"distance_value\"], y=df.toPandas()[\"duration_in_traffic_value\"], color=\"purple\")\n",
    "plt.title(\"Travel Time vs Distance\")\n",
    "plt.xlabel(\"Distance (meters)\")\n",
    "plt.ylabel(\"Travel Time (seconds)\")\n",
    "plt.show()\n"
   ]
  },
  {
   "cell_type": "code",
   "execution_count": 0,
   "metadata": {
    "application/vnd.databricks.v1+cell": {
     "cellMetadata": {
      "byteLimit": 2048000,
      "rowLimit": 10000
     },
     "inputWidgets": {},
     "nuid": "e8aabb91-3820-4199-8167-92d1e53f2450",
     "showTitle": false,
     "tableResultSettingsMap": {},
     "title": ""
    }
   },
   "outputs": [],
   "source": [
    "# Hourly Traffic Pattern Line Chart\n",
    "df_hourly = df.groupBy(\"time\").agg(avg(\"duration_in_traffic_value\").alias(\"avg_duration\")).toPandas()\n",
    "\n",
    "plt.figure(figsize=(9, 5))\n",
    "sns.lineplot(x=\"time\", y=\"avg_duration\", data=df_hourly, marker=\"o\", color=\"red\")\n",
    "plt.title(\"Hourly Traffic Pattern\")\n",
    "plt.xlabel(\"Time Slot\")\n",
    "plt.ylabel(\"Avg Travel Time (seconds)\")\n",
    "plt.xticks(rotation=45)\n",
    "plt.show()\n",
    "\n"
   ]
  },
  {
   "cell_type": "code",
   "execution_count": 0,
   "metadata": {
    "application/vnd.databricks.v1+cell": {
     "cellMetadata": {
      "byteLimit": 2048000,
      "rowLimit": 10000
     },
     "inputWidgets": {},
     "nuid": "71bba6da-285f-4f5b-bff2-486c26130df9",
     "showTitle": false,
     "tableResultSettingsMap": {},
     "title": ""
    }
   },
   "outputs": [],
   "source": [
    "# Day vs Night Travel Time Violin Plot\n",
    "df = df.withColumn(\"time_of_day\", expr(\"CASE WHEN time BETWEEN '06:00' AND '18:00' THEN 'Day' ELSE 'Night' END\"))\n",
    "\n",
    "df_pandas = df.select(\"time_of_day\", \"duration_in_traffic_value\").toPandas()\n",
    "\n",
    "plt.figure(figsize=(8, 5))\n",
    "sns.violinplot(x=\"time_of_day\", y=\"duration_in_traffic_value\", data=df_pandas, palette=\"coolwarm\", split=True)\n",
    "plt.title(\"Day vs. Night Travel Time Violin Plot\")\n",
    "plt.xlabel(\"Time of Day\")\n",
    "plt.ylabel(\"Travel Time (seconds)\")\n",
    "plt.show()\n"
   ]
  },
  {
   "cell_type": "code",
   "execution_count": 0,
   "metadata": {
    "application/vnd.databricks.v1+cell": {
     "cellMetadata": {
      "byteLimit": 2048000,
      "rowLimit": 10000
     },
     "inputWidgets": {},
     "nuid": "2612b87b-b12a-48fa-9782-5c196d820153",
     "showTitle": false,
     "tableResultSettingsMap": {},
     "title": ""
    }
   },
   "outputs": [],
   "source": [
    "# Hourly Traffic Trends Multi-Line Plot\n",
    "df_hourly = df.groupBy(\"time\", \"origin\").agg(avg(\"duration_in_traffic_value\").alias(\"avg_duration\")).toPandas()\n",
    "\n",
    "plt.figure(figsize=(10, 6))\n",
    "sns.lineplot(x=\"time\", y=\"avg_duration\", hue=\"origin\", data=df_hourly, marker=\"o\", palette=\"Dark2\")\n",
    "plt.title(\"Hourly Traffic Trends for Major Routes\")\n",
    "plt.xlabel(\"Time Slot\")\n",
    "plt.ylabel(\"Avg Travel Time (seconds)\")\n",
    "plt.legend(title=\"Route\")\n",
    "plt.xticks(rotation=45)\n",
    "plt.show()\n"
   ]
  },
  {
   "cell_type": "code",
   "execution_count": 0,
   "metadata": {
    "application/vnd.databricks.v1+cell": {
     "cellMetadata": {
      "byteLimit": 2048000,
      "rowLimit": 10000
     },
     "inputWidgets": {},
     "nuid": "93dff8ff-44af-4a4a-8bd5-0c0240a41132",
     "showTitle": false,
     "tableResultSettingsMap": {},
     "title": ""
    }
   },
   "outputs": [],
   "source": [
    "# Day vs Night Traffic Flow Heatmap\n",
    "df_heatmap = df.groupBy(\"time_of_day\", \"time\").agg(avg(\"duration_in_traffic_value\").alias(\"avg_delay\")).toPandas().pivot(\"time_of_day\", \"time\", \"avg_delay\")\n",
    "\n",
    "plt.figure(figsize=(10, 5))\n",
    "sns.heatmap(df_heatmap, cmap=\"coolwarm\", annot=False)\n",
    "plt.title(\"Traffic Flow Heatmap – Day vs Night\")\n",
    "plt.xlabel(\"Time of Day\")\n",
    "plt.ylabel(\"Time Slot\")\n",
    "plt.show()\n"
   ]
  },
  {
   "cell_type": "code",
   "execution_count": 0,
   "metadata": {
    "application/vnd.databricks.v1+cell": {
     "cellMetadata": {
      "byteLimit": 2048000,
      "rowLimit": 10000
     },
     "inputWidgets": {},
     "nuid": "bbc38c83-5063-4eef-a1ed-c6c450cbbcaa",
     "showTitle": false,
     "tableResultSettingsMap": {},
     "title": ""
    }
   },
   "outputs": [],
   "source": [
    "# Speed Variation Box Plot – Day vs. Night\n",
    "df_speed = df.withColumn(\"speed\", col(\"distance_value\") / col(\"duration_in_traffic_value\"))\n",
    "df_speed_pandas = df_speed.select(\"time_of_day\", \"speed\").toPandas()\n",
    "\n",
    "plt.figure(figsize=(8, 5))\n",
    "sns.boxplot(x=\"time_of_day\", y=\"speed\", data=df_speed_pandas, palette=\"Set2\")\n",
    "plt.title(\"Speed Variation Between Day and Night\")\n",
    "plt.xlabel(\"Time of Day\")\n",
    "plt.ylabel(\"Avg Speed (m/s)\")\n",
    "plt.show()\n"
   ]
  },
  {
   "cell_type": "code",
   "execution_count": 0,
   "metadata": {
    "application/vnd.databricks.v1+cell": {
     "cellMetadata": {
      "byteLimit": 2048000,
      "rowLimit": 10000
     },
     "inputWidgets": {},
     "nuid": "e16fbdf3-af82-41ee-affb-8ef864c92293",
     "showTitle": false,
     "tableResultSettingsMap": {},
     "title": ""
    }
   },
   "outputs": [],
   "source": [
    "# Traffic Congestion Tree Map\n",
    "import squarify\n",
    "\n",
    "df_congestion = df.groupBy(\"origin\").agg(avg(\"duration_in_traffic_value\").alias(\"avg_duration\")).toPandas()\n",
    "\n",
    "plt.figure(figsize=(8, 6))\n",
    "squarify.plot(sizes=df_congestion[\"avg_duration\"], label=df_congestion[\"origin\"], color=sns.color_palette(\"coolwarm\"))\n",
    "plt.title(\"Traffic Congestion Contribution Per Route\")\n",
    "plt.show()\n",
    "\n"
   ]
  },
  {
   "cell_type": "code",
   "execution_count": 0,
   "metadata": {
    "application/vnd.databricks.v1+cell": {
     "cellMetadata": {},
     "inputWidgets": {},
     "nuid": "7cc6b0c8-1275-4e69-83c2-0e89cf741aa0",
     "showTitle": false,
     "tableResultSettingsMap": {},
     "title": ""
    }
   },
   "outputs": [],
   "source": []
  }
 ],
 "metadata": {
  "application/vnd.databricks.v1+notebook": {
   "computePreferences": null,
   "dashboards": [],
   "environmentMetadata": {
    "base_environment": "",
    "environment_version": "2"
   },
   "inputWidgetPreferences": null,
   "language": "python",
   "notebookMetadata": {
    "pythonIndentUnit": 4
   },
   "notebookName": "Data Visualization",
   "widgets": {}
  },
  "language_info": {
   "name": "python"
  }
 },
 "nbformat": 4,
 "nbformat_minor": 0
}
